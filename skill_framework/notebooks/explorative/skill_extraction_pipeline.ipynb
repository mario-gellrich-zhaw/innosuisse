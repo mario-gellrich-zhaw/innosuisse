{
 "cells": [
  {
   "cell_type": "markdown",
   "metadata": {},
   "source": [
    "# Skill extraction pipeline"
   ]
  },
  {
   "cell_type": "markdown",
   "metadata": {},
   "source": [
    "## Creating labeled training data (CoNLL/BIO Format)"
   ]
  },
  {
   "cell_type": "code",
   "execution_count": 2,
   "metadata": {},
   "outputs": [
    {
     "name": "stdout",
     "output_type": "stream",
     "text": [
      "Sie\tO\n",
      "verfügen\tO\n",
      "über\tO\n",
      "Kenntnisse\tO\n",
      "in\tO\n",
      "Python\tB-TECH\n",
      "und\tO\n",
      "Teamfähigkeit\tB-TRANS\n",
      "sowie\tO\n",
      "\n",
      "          \tO\n",
      "Erfahrung\tO\n",
      "in\tO\n",
      "Cloud\tB-TECH\n",
      "Computing\tI-TECH\n",
      "und\tO\n",
      "Selbstorganisation\tB-TRANS\n",
      ".\tO\n"
     ]
    }
   ],
   "source": [
    "import warnings\n",
    "warnings.filterwarnings(\"ignore\")\n",
    "\n",
    "import spacy\n",
    "import subprocess\n",
    "from spacy.matcher import PhraseMatcher\n",
    "\n",
    "# Function to check if a spaCy model is installed\n",
    "def is_model_installed(model_name):\n",
    "    try:\n",
    "        spacy.load(model_name)\n",
    "        return True\n",
    "    except OSError:\n",
    "        return False\n",
    "\n",
    "# Ensure spaCy language models are installed and loaded correctly\n",
    "models = {\n",
    "    \"de_core_news_sm\": \"de_core_news_sm\",\n",
    "    \"en_core_web_sm\": \"en_core_web_sm\"\n",
    "}\n",
    "\n",
    "for model_name in models:\n",
    "    if not is_model_installed(model_name):\n",
    "        subprocess.run(['python', '-m', 'spacy', 'download', model_name])\n",
    "\n",
    "spacy_de = spacy.load('de_core_news_sm')\n",
    "spacy_en = spacy.load('en_core_web_sm')\n",
    "\n",
    "# Load German spaCy model\n",
    "nlp = spacy.load(\"de_core_news_sm\")\n",
    "\n",
    "# Define technical skills\n",
    "technical_skills = [\n",
    "    \"Python\", \"Java\", \"Machine Learning\", \"Cloud Computing\", \"SQL\", \"Datenanalyse\"\n",
    "]\n",
    "\n",
    "# Define transversal skills\n",
    "transversal_skills = [\n",
    "    \"Teamfähigkeit\", \"Kommunikationsstärke\", \"Selbstorganisation\", \n",
    "    \"Problemlösungskompetenz\", \"Kritisches Denken\", \"Zeitmanagement\", \n",
    "    \"Belastbarkeit\"\n",
    "]\n",
    "\n",
    "# Initialize matcher\n",
    "matcher = PhraseMatcher(nlp.vocab, attr=\"LOWER\")\n",
    "\n",
    "# Add patterns for technical and transversal skills\n",
    "tech_patterns = [nlp.make_doc(skill) for skill in technical_skills]\n",
    "trans_patterns = [nlp.make_doc(skill) for skill in transversal_skills]\n",
    "\n",
    "matcher.add(\"TECH\", tech_patterns)\n",
    "matcher.add(\"TRANS\", trans_patterns)\n",
    "\n",
    "# BIO labeling function\n",
    "def label_skills(text):\n",
    "    doc = nlp(text)\n",
    "    labels = [\"O\"] * len(doc)\n",
    "    matches = matcher(doc)\n",
    "\n",
    "    for match_id, start, end in matches:\n",
    "        label_type = nlp.vocab.strings[match_id]  # \"TECH\" or \"TRANS\"\n",
    "        prefix = \"B-\" + label_type\n",
    "        labels[start] = prefix\n",
    "        for i in range(start + 1, end):\n",
    "            labels[i] = \"I-\" + label_type\n",
    "\n",
    "    return [(token.text, labels[i]) for i, token in enumerate(doc)]\n",
    "\n",
    "# Sample input text\n",
    "text = \"\"\"Sie verfügen über Kenntnisse in Python und Teamfähigkeit sowie \n",
    "          Erfahrung in Cloud Computing und Selbstorganisation.\"\"\"\n",
    "\n",
    "# Apply labeling\n",
    "labeled_output = label_skills(text)\n",
    "\n",
    "# Print result\n",
    "for token, label in labeled_output:\n",
    "    print(f\"{token}\\t{label}\")"
   ]
  }
 ],
 "metadata": {
  "kernelspec": {
   "display_name": "Python 3.11.13 64-bit ('esi-001')",
   "language": "python",
   "name": "python3"
  },
  "language_info": {
   "codemirror_mode": {
    "name": "ipython",
    "version": 3
   },
   "file_extension": ".py",
   "mimetype": "text/x-python",
   "name": "python",
   "nbconvert_exporter": "python",
   "pygments_lexer": "ipython3",
   "version": "3.11.13"
  },
  "orig_nbformat": 4,
  "vscode": {
   "interpreter": {
    "hash": "c99006d231696aa92287ce080d623c22149bffd13a89b4177170d8eaac3558b6"
   }
  }
 },
 "nbformat": 4,
 "nbformat_minor": 2
}
