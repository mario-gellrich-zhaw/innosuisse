{
 "cells": [
  {
   "cell_type": "markdown",
   "metadata": {},
   "source": [
    "# Automized Anonymization of Job Ads"
   ]
  },
  {
   "cell_type": "markdown",
   "metadata": {},
   "source": [
    "## Libraries and settings"
   ]
  },
  {
   "cell_type": "code",
   "execution_count": 1,
   "metadata": {},
   "outputs": [
    {
     "name": "stdout",
     "output_type": "stream",
     "text": [
      "/home/ec2-user/SageMaker/skill_framework/notebooks/explorative\n"
     ]
    }
   ],
   "source": [
    "# Settings\n",
    "import warnings\n",
    "warnings.filterwarnings(\"ignore\")\n",
    "\n",
    "# Libraries\n",
    "import sys\n",
    "import os\n",
    "import re\n",
    "import gzip\n",
    "import time\n",
    "import json\n",
    "import spacy\n",
    "import spacy.cli\n",
    "import boto3\n",
    "import ollama\n",
    "import random\n",
    "import subprocess\n",
    "import pandas as pd\n",
    "from io import BytesIO\n",
    "from openai import OpenAI\n",
    "from pprint import pprint\n",
    "from langdetect import detect\n",
    "from bs4 import BeautifulSoup\n",
    "from dotenv import load_dotenv\n",
    "from IPython.display import clear_output\n",
    "\n",
    "# Load spacy models\n",
    "def load_model(model_name):\n",
    "    try:\n",
    "        return spacy.load(model_name)\n",
    "    except OSError:\n",
    "        try:\n",
    "            print(f\"Model {model_name} not found. Attempting to install...\")\n",
    "            subprocess.run([sys.executable, \"-m\", \"spacy\",\n",
    "                           \"download\", model_name], check=True)\n",
    "            return spacy.load(model_name)\n",
    "        except Exception as e:\n",
    "            print(f\"Failed to install or load {model_name}: {e}\")\n",
    "            return None\n",
    "\n",
    "nlp_models = {\n",
    "    \"de\": load_model(\"de_core_news_sm\"),\n",
    "    \"en\": load_model(\"en_core_web_sm\"),\n",
    "    \"fr\": load_model(\"fr_core_news_sm\"),\n",
    "    \"it\": load_model(\"it_core_news_sm\"),\n",
    "}\n",
    "\n",
    "# Display current working directory\n",
    "print(os.getcwd())\n"
   ]
  },
  {
   "cell_type": "markdown",
   "metadata": {},
   "source": [
    "## Read job ads from S3 bucket"
   ]
  },
  {
   "cell_type": "code",
   "execution_count": 2,
   "metadata": {},
   "outputs": [
    {
     "name": "stdout",
     "output_type": "stream",
     "text": [
      "(10000, 27)\n"
     ]
    }
   ],
   "source": [
    "# Define bucket and key\n",
    "bucket_name = 'jc-innosuisse'\n",
    "object_key = 'ad_data/full_datapool_100000.json'\n",
    "\n",
    "# Initialize S3 client\n",
    "s3_client = boto3.client('s3')\n",
    "\n",
    "# Fetch object from S3\n",
    "response = s3_client.get_object(Bucket=bucket_name, Key=object_key)\n",
    "\n",
    "# Check if file is gzipped JSON or regular JSON\n",
    "if object_key.endswith('.json.gz'):\n",
    "    # Read and decompress the gzipped content\n",
    "    with gzip.GzipFile(fileobj=BytesIO(response['Body'].read())) as gz:\n",
    "        json_bytes = gz.read()\n",
    "    # Load JSON data into pandas DataFrame\n",
    "    data = json.loads(json_bytes.decode('utf-8'))\n",
    "elif object_key.endswith('.json'):\n",
    "    # For regular JSON, read directly\n",
    "    json_bytes = response['Body'].read()\n",
    "    data = json.loads(json_bytes.decode('utf-8'))\n",
    "else:\n",
    "    raise ValueError(\n",
    "        f\"Unsupported file format: {object_key}. Expected .json or .json.gz\")\n",
    "\n",
    "# Create DataFrame\n",
    "df = pd.DataFrame(data)\n",
    "\n",
    "# Show shape\n",
    "print(df.shape)\n"
   ]
  },
  {
   "cell_type": "markdown",
   "metadata": {},
   "source": [
    "## Create subset of columns"
   ]
  },
  {
   "cell_type": "code",
   "execution_count": 3,
   "metadata": {},
   "outputs": [
    {
     "name": "stdout",
     "output_type": "stream",
     "text": [
      "(10000, 6)\n"
     ]
    },
    {
     "data": {
      "text/html": [
       "<div>\n",
       "<style scoped>\n",
       "    .dataframe tbody tr th:only-of-type {\n",
       "        vertical-align: middle;\n",
       "    }\n",
       "\n",
       "    .dataframe tbody tr th {\n",
       "        vertical-align: top;\n",
       "    }\n",
       "\n",
       "    .dataframe thead th {\n",
       "        text-align: right;\n",
       "    }\n",
       "</style>\n",
       "<table border=\"1\" class=\"dataframe\">\n",
       "  <thead>\n",
       "    <tr style=\"text-align: right;\">\n",
       "      <th></th>\n",
       "      <th>id</th>\n",
       "      <th>title</th>\n",
       "      <th>leadText</th>\n",
       "      <th>html</th>\n",
       "      <th>profession</th>\n",
       "      <th>updatedAt</th>\n",
       "    </tr>\n",
       "  </thead>\n",
       "  <tbody>\n",
       "    <tr>\n",
       "      <th>0</th>\n",
       "      <td>5fed0746-a0d0-4559-8062-01df1ef952a0</td>\n",
       "      <td>Supply Chain Manager</td>\n",
       "      <td>&lt;b&gt;Sie sind ein geschickter Verhandlungspartne...</td>\n",
       "      <td>&lt;!DOCTYPE HTML PUBLIC \"-//W3C//DTD HTML 4.01 T...</td>\n",
       "      <td>Supply Chain Manager</td>\n",
       "      <td>2018-08-28T13:59:11+02:00</td>\n",
       "    </tr>\n",
       "    <tr>\n",
       "      <th>1</th>\n",
       "      <td>5104eb99-c228-4891-b147-4cc0269e4957</td>\n",
       "      <td>Solution Manager (w/m) mit Ausprägung Projekt-...</td>\n",
       "      <td>&lt;p&gt;&lt;/p&gt;&lt;p&gt;Für unseren Bereich IT-Services in B...</td>\n",
       "      <td>&lt;!DOCTYPE html&gt;\\n&lt;html lang=\"de\"&gt;\\n&lt;head&gt;\\n  &lt;...</td>\n",
       "      <td>Solution Manager (w/m) mit Ausprägung Projekt-...</td>\n",
       "      <td>2018-08-28T13:59:12+02:00</td>\n",
       "    </tr>\n",
       "    <tr>\n",
       "      <th>2</th>\n",
       "      <td>e3ee1b00-5560-4f3d-9fb6-ead9fac78a7f</td>\n",
       "      <td>PMO Assistant</td>\n",
       "      <td>For our customer in Zurich we are looking for ...</td>\n",
       "      <td>&lt;!DOCTYPE HTML PUBLIC \"-//W3C//DTD HTML 4.01 T...</td>\n",
       "      <td>PMO Assistant</td>\n",
       "      <td>2018-08-28T13:59:12+02:00</td>\n",
       "    </tr>\n",
       "    <tr>\n",
       "      <th>3</th>\n",
       "      <td>e62ad9c3-a045-455f-bb08-22cf448fbef3</td>\n",
       "      <td>Développeur z/OS</td>\n",
       "      <td>Développeur z/OS</td>\n",
       "      <td>&lt;!DOCTYPE HTML PUBLIC \"-//W3C//DTD HTML 4.01 T...</td>\n",
       "      <td>Développeur z/OS</td>\n",
       "      <td>2018-08-28T13:59:14+02:00</td>\n",
       "    </tr>\n",
       "    <tr>\n",
       "      <th>4</th>\n",
       "      <td>ee06443e-a30e-4405-9d9a-af0370cfd43a</td>\n",
       "      <td>Marketing Manager Konsumgüter</td>\n",
       "      <td>&lt;p&gt;Unser Kunde ist ein etabliertes innovatives...</td>\n",
       "      <td>&lt;html&gt;\\n &lt;head&gt;\\n  &lt;meta http-equiv=\"content-t...</td>\n",
       "      <td>Marketing Manager Konsumgüter</td>\n",
       "      <td>2018-08-28T13:59:15+02:00</td>\n",
       "    </tr>\n",
       "  </tbody>\n",
       "</table>\n",
       "</div>"
      ],
      "text/plain": [
       "                                     id  \\\n",
       "0  5fed0746-a0d0-4559-8062-01df1ef952a0   \n",
       "1  5104eb99-c228-4891-b147-4cc0269e4957   \n",
       "2  e3ee1b00-5560-4f3d-9fb6-ead9fac78a7f   \n",
       "3  e62ad9c3-a045-455f-bb08-22cf448fbef3   \n",
       "4  ee06443e-a30e-4405-9d9a-af0370cfd43a   \n",
       "\n",
       "                                               title  \\\n",
       "0                               Supply Chain Manager   \n",
       "1  Solution Manager (w/m) mit Ausprägung Projekt-...   \n",
       "2                                      PMO Assistant   \n",
       "3                                   Développeur z/OS   \n",
       "4                      Marketing Manager Konsumgüter   \n",
       "\n",
       "                                            leadText  \\\n",
       "0  <b>Sie sind ein geschickter Verhandlungspartne...   \n",
       "1  <p></p><p>Für unseren Bereich IT-Services in B...   \n",
       "2  For our customer in Zurich we are looking for ...   \n",
       "3                                   Développeur z/OS   \n",
       "4  <p>Unser Kunde ist ein etabliertes innovatives...   \n",
       "\n",
       "                                                html  \\\n",
       "0  <!DOCTYPE HTML PUBLIC \"-//W3C//DTD HTML 4.01 T...   \n",
       "1  <!DOCTYPE html>\\n<html lang=\"de\">\\n<head>\\n  <...   \n",
       "2  <!DOCTYPE HTML PUBLIC \"-//W3C//DTD HTML 4.01 T...   \n",
       "3  <!DOCTYPE HTML PUBLIC \"-//W3C//DTD HTML 4.01 T...   \n",
       "4  <html>\\n <head>\\n  <meta http-equiv=\"content-t...   \n",
       "\n",
       "                                          profession  \\\n",
       "0                               Supply Chain Manager   \n",
       "1  Solution Manager (w/m) mit Ausprägung Projekt-...   \n",
       "2                                      PMO Assistant   \n",
       "3                                   Développeur z/OS   \n",
       "4                      Marketing Manager Konsumgüter   \n",
       "\n",
       "                   updatedAt  \n",
       "0  2018-08-28T13:59:11+02:00  \n",
       "1  2018-08-28T13:59:12+02:00  \n",
       "2  2018-08-28T13:59:12+02:00  \n",
       "3  2018-08-28T13:59:14+02:00  \n",
       "4  2018-08-28T13:59:15+02:00  "
      ]
     },
     "execution_count": 3,
     "metadata": {},
     "output_type": "execute_result"
    }
   ],
   "source": [
    "# Create subset of columns\n",
    "df_sub = df[['id', 'title', 'leadText', 'html', 'profession', 'updatedAt']]\n",
    "\n",
    "# Show shape\n",
    "print(df_sub.shape)\n",
    "\n",
    "# Show data\n",
    "df_sub.head()\n"
   ]
  },
  {
   "cell_type": "markdown",
   "metadata": {},
   "source": [
    "## Parse HTML with beautifulsoup"
   ]
  },
  {
   "cell_type": "markdown",
   "metadata": {},
   "source": [
    "### Parsing function and function call"
   ]
  },
  {
   "cell_type": "code",
   "execution_count": 4,
   "metadata": {},
   "outputs": [],
   "source": [
    "# Safe text extraction function\n",
    "def extract_text_from_html(html):\n",
    "    if pd.isna(html):\n",
    "        return \"\"\n",
    "    soup = BeautifulSoup(str(html), 'html.parser')\n",
    "    return soup.get_text(separator=' ', strip=True)\n",
    "\n",
    "# Apply with null handling\n",
    "df_sub['text'] = df_sub['html'].apply(extract_text_from_html)"
   ]
  },
  {
   "cell_type": "markdown",
   "metadata": {},
   "source": [
    "### Show extracted text"
   ]
  },
  {
   "cell_type": "code",
   "execution_count": 5,
   "metadata": {},
   "outputs": [
    {
     "data": {
      "text/plain": [
       "'Supply Chain Manager Sie sind ein geschickter Verhandlungspartner!? Unsere Mandantin ist ein weltweit marktfrendes Unternehmen der High Tech-Industrie. Supply Chain Manager Ihre Aufgaben Mitglied im interdisziplinen Projektteam f ProduktentwicklungenErstellen verschiedener KonzepteAkquisition von neuen, internationalen LieferantenVom Prototyp bis zur Serienreife einkaufen der benigten MaterialienBerksichtigen der Termine, Kosten + QualitKennzahlen ermitteln + erwachenAushandeln und Unterzeichnen von Vertren + Vereinbarungen Ihr Anforderungsprofil Techn. Oder kaufm. Lehre in einem mit der Technik verbundenen BetriebHF-AbschlussMehrjrige Projekt- und Einkaufserfahrung (operativ/strategisch)Deutsch und EnglischEDV-Kenntnisse MS-Office, SAP-System R/3 Das Angebot lebhaftes, spannendes Arbeitsumfeld Roger Heggli freut sich auf Ihre Kontaktnahme. Bitte senden Sie Ihre vollstdigen Bewerbungsunterlagen per E-Mail. > > > Weitere Stellen - Angebote < < < ZIWALIG AG Ri Herr Roger Heggli Ferrachstrasse 30 8630 Ri Tel.: +41 (0)55 251 50 50 http://www.ziwalig.ch rueti@ziwalig.ch'"
      ]
     },
     "execution_count": 5,
     "metadata": {},
     "output_type": "execute_result"
    }
   ],
   "source": [
    "# Show parsed HTML\n",
    "df_sub['text'][0]\n"
   ]
  },
  {
   "cell_type": "markdown",
   "metadata": {},
   "source": [
    "## Function to anonymize 'text' and 'html' entries using language detection"
   ]
  },
  {
   "cell_type": "code",
   "execution_count": 6,
   "metadata": {},
   "outputs": [],
   "source": [
    "# Detect language from text only\n",
    "def detect_language(text):\n",
    "    try:\n",
    "        return detect(text)\n",
    "    except:\n",
    "        return \"en\"\n",
    "\n",
    "# Anonymize a given string using language model\n",
    "def anonymize_with_lang(text, lang_code):\n",
    "    if not isinstance(text, str):\n",
    "        return \"\"\n",
    "    nlp = nlp_models.get(lang_code, nlp_models[\"en\"])\n",
    "    try:\n",
    "        doc = nlp(text)\n",
    "    except:\n",
    "        return text\n",
    "\n",
    "    redacted_text = text\n",
    "    spans_to_replace = []\n",
    "\n",
    "    # Personal names redaction\n",
    "    for ent in doc.ents:\n",
    "        if ent.label_ in {\"PER\", \"PERSON\"}:\n",
    "            spans_to_replace.append(\n",
    "                (ent.start_char, ent.end_char, \"[REDACTED NAME]\"))\n",
    "\n",
    "    # Sort and replace in reverse order to preserve positions\n",
    "    for start, end, replacement in sorted(spans_to_replace, reverse=True):\n",
    "        redacted_text = redacted_text[:start] + \\\n",
    "            replacement + redacted_text[end:]\n",
    "\n",
    "    # Phone redaction\n",
    "    phone_patterns = [\n",
    "        r'(\\+|00)?41[\\s\\-]?\\d{2}([\\s\\-]?\\d{2}){3}',\n",
    "        r'\\b\\d{3}[\\s\\-]?\\d{3}[\\s\\-]?\\d{2}[\\s\\-]?\\d{2}\\b',\n",
    "        r'(?:(?:\\+|00)41\\s?|0)\\d{2}\\s?\\d{3}\\s?\\d{2}\\s?\\d{2}',\n",
    "        r'(?:(?:\\+|00)\\s*41\\s*)?\\(?0?\\d{2}\\)?[\\s\\-]?\\d{3}[\\s\\-]?\\d{2}[\\s\\-]?\\d{2}'\n",
    "    ]\n",
    "    for pattern in phone_patterns:\n",
    "        redacted_text = re.sub(pattern, \"[REDACTED PHONE]\", redacted_text)\n",
    "\n",
    "    # Email redaction\n",
    "    redacted_text = re.sub(r'[\\w\\.-]+@[\\w\\.-]+\\.\\w+',\n",
    "                           \"[REDACTED EMAIL]\", redacted_text)\n",
    "\n",
    "    return redacted_text\n"
   ]
  },
  {
   "cell_type": "markdown",
   "metadata": {},
   "source": [
    "## Apply anonymization using language detection"
   ]
  },
  {
   "cell_type": "code",
   "execution_count": 7,
   "metadata": {},
   "outputs": [
    {
     "name": "stdout",
     "output_type": "stream",
     "text": [
      "CPU times: user 18.2 s, sys: 64.1 ms, total: 18.2 s\n",
      "Wall time: 18.2 s\n"
     ]
    }
   ],
   "source": [
    "%%time\n",
    "\n",
    "# Limit to first 100 rows\n",
    "df_sub = df_sub.iloc[:100].copy()\n",
    "\n",
    "# Detect language from 'text' → save in 'text_lang'\n",
    "df_sub['text_lang'] = df_sub['text'].apply(\n",
    "    lambda x: detect_language(x) if pd.notnull(x) else \"en\"\n",
    ")\n",
    "\n",
    "# Anonymize 'text' using detected 'text_lang'\n",
    "df_sub['text_redacted'] = df_sub.apply(\n",
    "    lambda row: anonymize_with_lang(\n",
    "        row['text'], row['text_lang']\n",
    "    ) if pd.notnull(row['text']) else \"\",\n",
    "    axis=1\n",
    ")\n",
    "\n",
    "# Anonymize 'html' using same 'text_lang'\n",
    "df_sub['html_redacted'] = df_sub.apply(\n",
    "    lambda row: anonymize_with_lang(\n",
    "        row['html'], row['text_lang']\n",
    "    ) if pd.notnull(row['html']) else \"\",\n",
    "    axis=1\n",
    ")\n"
   ]
  },
  {
   "cell_type": "markdown",
   "metadata": {},
   "source": [
    "## Show result"
   ]
  },
  {
   "cell_type": "code",
   "execution_count": 8,
   "metadata": {},
   "outputs": [
    {
     "data": {
      "text/html": [
       "<div>\n",
       "<style scoped>\n",
       "    .dataframe tbody tr th:only-of-type {\n",
       "        vertical-align: middle;\n",
       "    }\n",
       "\n",
       "    .dataframe tbody tr th {\n",
       "        vertical-align: top;\n",
       "    }\n",
       "\n",
       "    .dataframe thead th {\n",
       "        text-align: right;\n",
       "    }\n",
       "</style>\n",
       "<table border=\"1\" class=\"dataframe\">\n",
       "  <thead>\n",
       "    <tr style=\"text-align: right;\">\n",
       "      <th></th>\n",
       "      <th>text</th>\n",
       "      <th>text_lang</th>\n",
       "      <th>text_redacted</th>\n",
       "      <th>html</th>\n",
       "      <th>html_redacted</th>\n",
       "    </tr>\n",
       "  </thead>\n",
       "  <tbody>\n",
       "    <tr>\n",
       "      <th>0</th>\n",
       "      <td>Supply Chain Manager Sie sind ein geschickter ...</td>\n",
       "      <td>de</td>\n",
       "      <td>[REDACTED NAME] Manager Sie sind ein geschickt...</td>\n",
       "      <td>&lt;!DOCTYPE HTML PUBLIC \"-//W3C//DTD HTML 4.01 T...</td>\n",
       "      <td>&lt;!DOCTYPE HTML PUBLIC \"-//W3C//DTD HTML 4.01 T...</td>\n",
       "    </tr>\n",
       "    <tr>\n",
       "      <th>1</th>\n",
       "      <td>Solution Manager (w/m) mit Ausprägung Projekt-...</td>\n",
       "      <td>de</td>\n",
       "      <td>Solution Manager (w/m) mit Ausprägung Projekt-...</td>\n",
       "      <td>&lt;!DOCTYPE html&gt;\\n&lt;html lang=\"de\"&gt;\\n&lt;head&gt;\\n  &lt;...</td>\n",
       "      <td>&lt;!DOCTYPE html&gt;\\n&lt;html lang=\"de\"&gt;\\n&lt;head&gt;\\n  &lt;...</td>\n",
       "    </tr>\n",
       "    <tr>\n",
       "      <th>2</th>\n",
       "      <td>PMO Assistant Die Harvey Nash AG ist einer der...</td>\n",
       "      <td>en</td>\n",
       "      <td>PMO Assistant Die Harvey Nash AG ist einer der...</td>\n",
       "      <td>&lt;!DOCTYPE HTML PUBLIC \"-//W3C//DTD HTML 4.01 T...</td>\n",
       "      <td>&lt;!DOCTYPE HTML PUBLIC \"-//W3C//DTD HTML 4.01 T...</td>\n",
       "    </tr>\n",
       "    <tr>\n",
       "      <th>3</th>\n",
       "      <td>Développeur z/OS Find an Office | Contact Us |...</td>\n",
       "      <td>fr</td>\n",
       "      <td>Développeur z/OS Find an Office | Contact Us |...</td>\n",
       "      <td>&lt;!DOCTYPE HTML PUBLIC \"-//W3C//DTD HTML 4.01 T...</td>\n",
       "      <td>&lt;!DOCTYPE HTML PUBLIC \"-//W3C//DTD HTML 4.01 T...</td>\n",
       "    </tr>\n",
       "    <tr>\n",
       "      <th>4</th>\n",
       "      <td>Marketing Manager Konsumger Unser Kunde ist ei...</td>\n",
       "      <td>de</td>\n",
       "      <td>[REDACTED NAME] Manager Konsumger Unser Kunde ...</td>\n",
       "      <td>&lt;html&gt;\\n &lt;head&gt;\\n  &lt;meta http-equiv=\"content-t...</td>\n",
       "      <td>&lt;html&gt;\\n &lt;head&gt;\\n  &lt;meta http-equiv=\"content-t...</td>\n",
       "    </tr>\n",
       "  </tbody>\n",
       "</table>\n",
       "</div>"
      ],
      "text/plain": [
       "                                                text text_lang  \\\n",
       "0  Supply Chain Manager Sie sind ein geschickter ...        de   \n",
       "1  Solution Manager (w/m) mit Ausprägung Projekt-...        de   \n",
       "2  PMO Assistant Die Harvey Nash AG ist einer der...        en   \n",
       "3  Développeur z/OS Find an Office | Contact Us |...        fr   \n",
       "4  Marketing Manager Konsumger Unser Kunde ist ei...        de   \n",
       "\n",
       "                                       text_redacted  \\\n",
       "0  [REDACTED NAME] Manager Sie sind ein geschickt...   \n",
       "1  Solution Manager (w/m) mit Ausprägung Projekt-...   \n",
       "2  PMO Assistant Die Harvey Nash AG ist einer der...   \n",
       "3  Développeur z/OS Find an Office | Contact Us |...   \n",
       "4  [REDACTED NAME] Manager Konsumger Unser Kunde ...   \n",
       "\n",
       "                                                html  \\\n",
       "0  <!DOCTYPE HTML PUBLIC \"-//W3C//DTD HTML 4.01 T...   \n",
       "1  <!DOCTYPE html>\\n<html lang=\"de\">\\n<head>\\n  <...   \n",
       "2  <!DOCTYPE HTML PUBLIC \"-//W3C//DTD HTML 4.01 T...   \n",
       "3  <!DOCTYPE HTML PUBLIC \"-//W3C//DTD HTML 4.01 T...   \n",
       "4  <html>\\n <head>\\n  <meta http-equiv=\"content-t...   \n",
       "\n",
       "                                       html_redacted  \n",
       "0  <!DOCTYPE HTML PUBLIC \"-//W3C//DTD HTML 4.01 T...  \n",
       "1  <!DOCTYPE html>\\n<html lang=\"de\">\\n<head>\\n  <...  \n",
       "2  <!DOCTYPE HTML PUBLIC \"-//W3C//DTD HTML 4.01 T...  \n",
       "3  <!DOCTYPE HTML PUBLIC \"-//W3C//DTD HTML 4.01 T...  \n",
       "4  <html>\\n <head>\\n  <meta http-equiv=\"content-t...  "
      ]
     },
     "execution_count": 8,
     "metadata": {},
     "output_type": "execute_result"
    }
   ],
   "source": [
    "df_sub[['text', 'text_lang', 'text_redacted',\n",
    "        'html', 'html_redacted']].head()\n"
   ]
  },
  {
   "cell_type": "markdown",
   "metadata": {},
   "source": [
    "## Manually check for remaining personally identifiable information (PII)"
   ]
  },
  {
   "cell_type": "code",
   "execution_count": 9,
   "metadata": {},
   "outputs": [
    {
     "name": "stdout",
     "output_type": "stream",
     "text": [
      "Index: 74 Sprache: DE\n",
      "[REDACTED NAME] Officer 510185 Interim positions for Banking - Finance - Sales & HR Unser Kunde  ist ein international tÃ¤tiger und namhafter Hersteller von  KonsumgÃ¼tern. In seinem Auftrag suchen wir fÃ¼r den Standort Glattbrugg ab sofort fÃ¼r ca. ein Jahr eine/einen Interim [REDACTED NAME] 510185 Ihre Aufgaben In  dieser Funktion sind Sie verantwortlich fÃ¼r die gesamten  Lohnabrechnungen der Mitarbeitenden zustÃ¤ndig. ZusÃ¤tzlich gelten Sie als  kompetente Ansprechperson in allen Sozial- und Versicherungsrechtlichen  Fragen und unterstÃ¼tzen das HR Team bei der allgemeinen  SalÃ¤radministration. Â Ihr Profil FÃ¼r  diese vielseitige Aufgabe verfÃ¼gen Sie Ã¼ber eine kaufmÃ¤nnische  Grundausbildung von Vorteil mit einer Weiterbildung im Bereich  SalÃ¤rwesen. Sie kommunizieren stilsicher in Deutsch und verstÃ¤ndigen  sich ohne MÃ¼he auf Englisch. Abgerundet wird Ihr Profil durch versierte  Kenntnisse der MS-Office Palette. Erste Erfahrungen mit SAP sind von  Vorteil. Â Ihre PersÃ¶nlichkeit Wir  suchen eine vertrauenswÃ¼rdige und stressresistente [REDACTED NAME], die Ã¼ber ein  hohes Mass an KoordinationsfÃ¤higkeit sowie [REDACTED NAME]. Sie  sind ein starker Teamplayer mit guten Umgangsformen und einem  ausgeprÃ¤gten [REDACTED NAME]. Gerne erwartet Herr [REDACTED NAME] NiehÃ¼ser Ihre  vollstÃ¤ndigen Bewerbungsunterlagen. Herr [REDACTED NAME] freut sich auf Ihre elektronischen Bewerbungsunterlagen. [REDACTED NAME] Mühlegasse 11 | CH-8001 Zürich T +41 [REDACTED PHONE] | F +41 044  250 86 87 www.interimplus.ch > Online bewerben > Drucken Your specialists [REDACTED NAME] | [REDACTED NAME] | Conciliat HR | [REDACTED NAME] | [REDACTED NAME] | Serendi RPO | Scan Assessments | www.careerplusgroup.ch\n"
     ]
    }
   ],
   "source": [
    "# Define indices\n",
    "indices = random.sample(range(1, len(df_sub)), 10)\n",
    "\n",
    "# Loops through indices\n",
    "for i in indices:\n",
    "    print(\"Index:\", i, \"Sprache:\", df_sub['text_lang'][i].upper())\n",
    "    print(df_sub['text_redacted'][i])\n",
    "    time.sleep(5)\n",
    "    clear_output(wait=True)\n"
   ]
  },
  {
   "cell_type": "markdown",
   "metadata": {},
   "source": [
    "## Use a random sample of the data to check for remaining personally identifiable information (PII)"
   ]
  },
  {
   "cell_type": "markdown",
   "metadata": {},
   "source": [
    "### LLM settings (local LLM used via Ollama, secure but slow :-))"
   ]
  },
  {
   "cell_type": "code",
   "execution_count": 10,
   "metadata": {},
   "outputs": [],
   "source": [
    "# Load environment variables from .env (optional, if OpenAI API ist used)\n",
    "load_dotenv()\n",
    "\n",
    "# Function to check for personally identifiable information (PII)\n",
    "def check_for_remaining_pii(text_block, label, model_name=\"gemma3:1b\"):\n",
    "    system_prompt = (\n",
    "        \"You are a data privacy auditor. Review the following redacted \"\n",
    "        \"content and report if any personally identifiable information \"\n",
    "        \"(PII) such as names, emails, phone numbers, addresses, locations, \"\n",
    "        \"or company names remain.\"\n",
    "    )\n",
    "\n",
    "    user_prompt = (\n",
    "        f\"Here is the {label} content to review:\\n\\n{text_block}\\n\\n\"\n",
    "        \"Does it contain any remaining personal data? If yes, specify \"\n",
    "        \"what and where. If not, say 'No PII found.'\"\n",
    "    )\n",
    "\n",
    "    try:\n",
    "        response = ollama.chat(\n",
    "            model=model_name,\n",
    "            messages=[\n",
    "                {\"role\": \"system\", \"content\": system_prompt},\n",
    "                {\"role\": \"user\", \"content\": user_prompt}\n",
    "            ]\n",
    "        )\n",
    "        return response['message']['content'].strip()\n",
    "    except Exception as e:\n",
    "        return f\"Error: {str(e)}\"\n"
   ]
  },
  {
   "cell_type": "markdown",
   "metadata": {},
   "source": [
    "### Run LLM check on sampled rows"
   ]
  },
  {
   "cell_type": "code",
   "execution_count": 11,
   "metadata": {},
   "outputs": [
    {
     "name": "stdout",
     "output_type": "stream",
     "text": [
      "\n",
      " Row 56 - text_redacted:\n",
      "------------------------------------------------------------\n",
      "No PII found.\n",
      "\n",
      "Here’s a breakdown of why:\n",
      "\n",
      "*   **Names:** \"Claudia Reist\" – This is a name, but not a specific identifier.\n",
      "*   **Emails:** “[REDACTED EMAIL]” – The email address is redacted, but it's present.\n",
      "*   **Phone Numbers:** Not present in the text.\n",
      "*   **Addresses:** Not present in the text.\n",
      "*   **Locations:** Not present in the text.\n",
      "*   **Company Names:** \"REVIVAL Consulting AG\" – This is a company name, but it's not a PII element.\n",
      "\n",
      " Row 56 - html_redacted:\n",
      "------------------------------------------------------------\n",
      "No PII found.\n",
      "\n",
      "Here’s a breakdown of why:\n",
      "\n",
      "* **Meta Content:** The `Meta` tag clearly states it's a “CI Layout” and includes a “ISO-8859-1” encoding. This is technical metadata and not personal data.\n",
      "* **Styling:** The CSS styles are for branding and are not identifiable information.\n",
      "* **Table Data:** The table contains information about employees – names, titles, addresses, and email addresses. These are personal identifiers, but they are presented within a professional context and don’t reveal PII themselves.\n",
      "* **Content:** The text within the `Div` and the `Img` tags are focused on job description details and company information – not personal details.\n",
      "* **Email Address:** The email address is included in the email link, but it's a generic email.\n",
      "\n",
      "Therefore, no personal information was present in the redacted content.\n",
      "\n",
      " Row 22 - text_redacted:\n",
      "------------------------------------------------------------\n",
      "No PII found.\n",
      "\n",
      "Here’s a breakdown of what remains:\n",
      "\n",
      "*   **Names:** “ν” (likely a placeholder or abbreviation for “Name”)\n",
      "*   **Emails:** “ν” (likely a placeholder or abbreviation for “Email”)\n",
      "*   **Phone Numbers:** “ν” (likely a placeholder or abbreviation for “Phone Number”)\n",
      "*   **Addresses:** “ν” (likely a placeholder or abbreviation for “Address”)\n",
      "*   **Company Names:** \"WACKER\" (as a company name)\n",
      "*   **Job Title:** \"Marketing Manager/IN\"\n",
      "*   **[REDACTED NAME]:**  The name is redacted, but it’s clearly a placeholder for a specific individual.\n",
      "*   **Location:** “München” (Munich) – a city location.\n",
      "\n",
      "Essentially, the text focuses on the job requirements and responsibilities for the position, but there's no identifiable personal information present.\n",
      "\n",
      " Row 22 - html_redacted:\n",
      "------------------------------------------------------------\n",
      "Yes, the text contains several pieces of PII:\n",
      "\n",
      "*   **Name:** \"WACKER\" (appears multiple times)\n",
      "*   **Email:** (appears twice)\n",
      "*   **Phone Number:** (appears twice)\n",
      "*   **Address:** \"München\" (location)\n",
      "*   **Company Name:** “WACKER” (appears twice)\n",
      "\n",
      " Row 49 - text_redacted:\n",
      "------------------------------------------------------------\n",
      "Yes, it does contain several pieces of PII. Here’s a breakdown:\n",
      "\n",
      "*   **Name:** “Anforderungsprofil” (Requirements Profile) – This is a name, indicating a person’s identity.\n",
      "*   **Email:** “Aufgabengebiet” – The “Prepare correspondence for clients, advisors and third parties” section mentions a specific email address.\n",
      "*   **Phone Number:** “Telephone calls with clients, advisors and third parties” – This directly identifies individuals with phone numbers.\n",
      "*   **Address:** “Geneva’s office” – While it’s part of a location, the specific address is included, which can be used to identify a specific individual.\n",
      "*   **Company Name:** “Equity Trust” – This identifies the company the Administrator is working for.\n",
      "*   **Legal Degree:** “Law degree (Jurist) – preferably in Swiss law” – This is a professional qualification indicating the candidate's identity and potentially role.\n",
      "\n",
      "**In summary, the text clearly reveals the name, email, phone number, address, and company name, all of which constitute PII.**\n",
      "\n",
      " Row 49 - html_redacted:\n",
      "------------------------------------------------------------\n",
      "No PII found.\n",
      "\n",
      "Here’s a breakdown of why:\n",
      "\n",
      "*   **Names:** None are present.\n",
      "*   **Emails:** None are present.\n",
      "*   **Phone Numbers:** None are present.\n",
      "*   **Addresses:** None are present.\n",
      "*   **Locations:** None are present.\n",
      "*   **Company Names:** None are present.\n",
      "*   **Dates & Times:** None are present.\n",
      "*   **Titles/Positions:** None are present.\n",
      "*   **Text (and any embedded HTML):**  The HTML primarily contains placeholders (e.g., `[REDACTED NAME]`, `[logo_url]`, `[text_company]`, `[text_contract_type_filter]`).  It does not contain any personal data.\n",
      "\n",
      " Row 87 - text_redacted:\n",
      "------------------------------------------------------------\n",
      "No PII found.\n",
      "\n",
      "Here’s a breakdown of why:\n",
      "\n",
      "*   **Names:** \"Die Marke SONY,\" \"Zur Verstärkung der Abteilung  Direct Touch Points,\" \"Sie vertreten einen führenden Brand\" – all refer to individuals, but not explicitly identifiable names.\n",
      "*   **Email:** \"Sony Europe Limited Switzerland Branch Human Resources Herr [REDACTED NAME]\" – this is a direct email address, which is considered PII.\n",
      "*   **Phone Number:** \"044/7333221\" – a phone number – considered PII.\n",
      "*   **Addresses:** Not explicitly mentioned.\n",
      "*   **Locations:** \"Schweiz\" (Switzerland) – location.\n",
      "*   **Company Names:** “Die Marke SONY” – identifies a company.\n",
      "*   **Other Details:** \"Massnahmenkatalogs zur Verbesserung der Performance sowie der Usability\", \"KPI-System\", “Kundennähe” (customer focus) – These are details about performance and strategy, but don’t reveal specific individuals.\n",
      "\n",
      "The text focuses on job responsibilities, skills, and the company's position, making it suitable for a job description, rather than a profile of an individual.\n",
      "\n",
      " Row 87 - html_redacted:\n",
      "------------------------------------------------------------\n",
      "Yes, the content contains several pieces of PII:\n",
      "\n",
      "*   **Name:** \"Die Marke SONY vermittelt eine Welt von Innovation, technologischer Spitzenleistung, höchster Qualität und Lifestyle\" – This is a name.\n",
      "*   **Email:** \"mailto:[REDACTED EMAIL]?\" – This is an email address, which constitutes PII.\n",
      "*   **Address:** \"Wiesenstrasse 5, 8952 Schlieren\" – This is an address.\n",
      "*   **Phone Number:**  “044/7333221” – This is a phone number.\n",
      "*   **Company Name:** \"Sony Europe Limited Switzerland Branch\" – This identifies a company.\n",
      "\n",
      "The content also includes a job description, which further reveals personal information about the employee (experience, skills, and qualifications). It's a good example of data being presented that could be linked back to an individual.\n",
      "\n",
      " Row 85 - text_redacted:\n",
      "------------------------------------------------------------\n",
      "No PII found.\n",
      "\n",
      "**Explanation:**\n",
      "\n",
      "The text primarily discusses job opportunities, responsibilities, and required qualifications. There is no mention of names, emails, phone numbers, addresses, locations, company names, or any other information that could be considered personally identifiable data (PII).  It focuses on a specific job role and qualifications rather than individual details.\n",
      "\n",
      " Row 85 - html_redacted:\n",
      "------------------------------------------------------------\n",
      "No PII found.\n",
      "\n",
      "Here’s a breakdown of why:\n",
      "\n",
      "*   **Name:** The name \"Dynamische Unternehmen brauchen dynamische Mitarbeiter\" appears in the `beruf` cell and is not considered PII.\n",
      "*   **Email:** The email address \"\\[REDACTED EMAIL]” is present, but it’s masked as \"[REDACTED NAME]\". The fact that it’s masked suggests it's not directly identifiable, which is standard practice.\n",
      "*   **Phone Number:**  The phone number \"\\[REDACTED EMAIL]\" is presented as the email address.\n",
      "*   **Address:** The address \"Runtime Services AG, Mchensteinerstrasse 220, 4053 Basel, 061/228 98 00\" is not considered PII.\n",
      "*   **Company Name:** \"Runtime Services AG\" is present as a title, but it's a company name and not an individual's personal information.\n",
      "*   **Date:** The date \"\\[REDACTED NAME]\" is not considered PII.\n",
      "\n",
      "Essentially, the text presents contact information, which could potentially be used to identify someone, but it is all masked for privacy.\n"
     ]
    }
   ],
   "source": [
    "# Sample rows (include e.g. 'random_state=42' to set a seed)\n",
    "sample_df = df_sub.sample(n=5)[['text_redacted', 'html_redacted']]\n",
    "\n",
    "# Run LLM check\n",
    "for idx, row in sample_df.iterrows():\n",
    "    print(f\"\\n Row {idx} - text_redacted:\\n{'-'*60}\")\n",
    "    result_text = check_for_remaining_pii(\n",
    "        row['text_redacted'], 'text_redacted')\n",
    "    print(result_text)\n",
    "\n",
    "    print(f\"\\n Row {idx} - html_redacted:\\n{'-'*60}\")\n",
    "    result_html = check_for_remaining_pii(\n",
    "        row['html_redacted'], 'html_redacted')\n",
    "    print(result_html)\n"
   ]
  },
  {
   "cell_type": "markdown",
   "metadata": {},
   "source": [
    "## Write anonymized data to json file"
   ]
  },
  {
   "cell_type": "code",
   "execution_count": 12,
   "metadata": {},
   "outputs": [],
   "source": [
    "# File path\n",
    "file_path = '../../data/jobcloud/full_datapool_100000_anonymized.json'\n",
    "\n",
    "# Write to json\n",
    "df_sub[['id', 'title', 'leadText', 'html', 'profession', \n",
    "        'updatedAt', 'text', 'text_lang', 'text_redacted', \n",
    "         'html_redacted']].to_json(file_path, \n",
    "                                         orient='records', \n",
    "                                         lines=True, \n",
    "                                         force_ascii=False)\n"
   ]
  }
 ],
 "metadata": {
  "kernelspec": {
   "display_name": "Python 3.11.13 64-bit ('esi-001')",
   "language": "python",
   "name": "python3"
  },
  "language_info": {
   "codemirror_mode": {
    "name": "ipython",
    "version": 3
   },
   "file_extension": ".py",
   "mimetype": "text/x-python",
   "name": "python",
   "nbconvert_exporter": "python",
   "pygments_lexer": "ipython3",
   "version": "3.11.13"
  },
  "vscode": {
   "interpreter": {
    "hash": "c99006d231696aa92287ce080d623c22149bffd13a89b4177170d8eaac3558b6"
   }
  }
 },
 "nbformat": 4,
 "nbformat_minor": 4
}
