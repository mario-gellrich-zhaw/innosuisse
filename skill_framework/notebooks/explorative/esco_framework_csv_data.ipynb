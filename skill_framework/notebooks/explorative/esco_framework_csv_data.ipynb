{
 "cells": [
  {
   "cell_type": "markdown",
   "metadata": {},
   "source": [
    "# Analyse ESCO-Framework, Neo4j Graph DB"
   ]
  },
  {
   "cell_type": "markdown",
   "metadata": {},
   "source": [
    "## Libraries and settings"
   ]
  },
  {
   "cell_type": "code",
   "execution_count": null,
   "metadata": {},
   "outputs": [],
   "source": [
    "# Libraries\n",
    "import os\n",
    "import json\n",
    "import requests\n",
    "import warnings\n",
    "import pandas as pd\n",
    "from neo4j import GraphDatabase\n",
    "from pprint import pprint\n",
    "from SPARQLWrapper import SPARQLWrapper, JSON\n",
    "\n",
    "# Connection details\n",
    "URI = \"bolt://localhost:7687\"\n",
    "USER = \"neo4j\"\n",
    "PASSWORD = \"Xc54gH6*+?5gHt5\"\n",
    "CHUNK_SIZE = 1000\n",
    "\n",
    "# Path\n",
    "path = '/home/ec2-user/SageMaker/skill_framework'\n",
    "\n",
    "# Ignore warnings\n",
    "warnings.filterwarnings(\"ignore\")\n",
    "\n",
    "# Show current working directory\n",
    "print(os.getcwd())"
   ]
  },
  {
   "cell_type": "markdown",
   "metadata": {},
   "source": [
    "## Import ESCO data"
   ]
  },
  {
   "cell_type": "code",
   "execution_count": null,
   "metadata": {},
   "outputs": [],
   "source": [
    "# Path to the ESCO data\n",
    "path_data = path + '/data/esco/ESCO dataset - v1.2.0 - classification - de - csv/'\n",
    "\n",
    "# Read ESCO data\n",
    "ski = pd.read_csv(path_data + 'skills_de.csv')\n",
    "occ = pd.read_csv(path_data + 'occupations_de.csv')\n",
    "osr = pd.read_csv(path_data + 'occupationSkillRelations_de.csv')\n",
    "\n",
    "# Select relevant columns\n",
    "ski_col = ['conceptUri', \n",
    "            'skillType', \n",
    "            'reuseLevel', \n",
    "            'preferredLabel', \n",
    "            'description']\n",
    "occ_col = ['conceptUri', \n",
    "            'preferredLabel', \n",
    "            'description', \n",
    "            'code']\n",
    "osr_col = ['occupationUri', \n",
    "            'relationType', \n",
    "            'skillType', \n",
    "            'skillUri']\n",
    "\n",
    "# Filter relevant columns\n",
    "ski = ski[ski_col]\n",
    "occ = occ[occ_col]\n",
    "osr = osr[osr_col]\n",
    "\n",
    "# Show dimensions\n",
    "print('Skills:', ski.shape)\n",
    "print('Occupations:', occ.shape)\n",
    "print('Occupation-Skill Relations:', osr.shape)\n"
   ]
  },
  {
   "cell_type": "markdown",
   "metadata": {},
   "source": [
    "## Categories in the data"
   ]
  },
  {
   "cell_type": "code",
   "execution_count": null,
   "metadata": {},
   "outputs": [],
   "source": [
    "# Show skill types\n",
    "print('Skill types:', ski.skillType.unique())\n",
    "\n",
    "# Show reuse levels\n",
    "print('Reuse levels:', ski.reuseLevel.unique())"
   ]
  },
  {
   "cell_type": "markdown",
   "metadata": {},
   "source": [
    "## Clean data"
   ]
  },
  {
   "cell_type": "code",
   "execution_count": null,
   "metadata": {},
   "outputs": [],
   "source": [
    "# Clean the osr DataFrame\n",
    "osr['skillType'] = osr['skillType'].fillna('Unknown')\n",
    "osr = osr.dropna(subset=['occupationUri', 'skillUri', 'relationType'])\n",
    "\n",
    "# Verify the cleaning process\n",
    "print('Cleaned osr DataFrame:')\n",
    "print(osr.isna().sum())"
   ]
  },
  {
   "cell_type": "markdown",
   "metadata": {},
   "source": [
    "## Store data in graph data base"
   ]
  },
  {
   "cell_type": "code",
   "execution_count": null,
   "metadata": {},
   "outputs": [],
   "source": [
    "# Create a Neo4j driver instance\n",
    "driver = GraphDatabase.driver(URI, auth=(USER, PASSWORD))\n",
    "\n",
    "def batch_insert(tx, query, data):\n",
    "    tx.run(query, rows=data)\n",
    "\n",
    "with driver.session() as session:\n",
    "    # 🔧 Create indexes\n",
    "    session.run(\"CREATE INDEX IF NOT EXISTS FOR (s:Skill) ON (s.uri)\")\n",
    "    session.run(\"CREATE INDEX IF NOT EXISTS FOR (o:Occupation) ON (o.uri)\")\n",
    "\n",
    "    # Insert Skills\n",
    "    skill_query = \"\"\"\n",
    "    UNWIND $rows AS row\n",
    "    MERGE (s:Skill {uri: row.uri})\n",
    "    SET s.label = row.label, s.type = row.type, s.reuseLevel = row.reuse, s.description = row.desc\n",
    "    \"\"\"\n",
    "    for i in range(0, len(ski), CHUNK_SIZE):\n",
    "        chunk = ski.iloc[i:i+CHUNK_SIZE]\n",
    "        rows = chunk.rename(columns={\n",
    "            'conceptUri': 'uri',\n",
    "            'preferredLabel': 'label',\n",
    "            'skillType': 'type',\n",
    "            'reuseLevel': 'reuse',\n",
    "            'description': 'desc'\n",
    "        }).to_dict('records')\n",
    "        session.write_transaction(batch_insert, skill_query, rows)\n",
    "\n",
    "    # Insert Occupations\n",
    "    occupation_query = \"\"\"\n",
    "    UNWIND $rows AS row\n",
    "    MERGE (o:Occupation {uri: row.uri})\n",
    "    SET o.label = row.label, o.description = row.desc, o.code = row.code\n",
    "    \"\"\"\n",
    "    for i in range(0, len(occ), CHUNK_SIZE):\n",
    "        chunk = occ.iloc[i:i+CHUNK_SIZE]\n",
    "        rows = chunk.rename(columns={\n",
    "            'conceptUri': 'uri',\n",
    "            'preferredLabel': 'label',\n",
    "            'description': 'desc',\n",
    "            'code': 'code'\n",
    "        }).to_dict('records')\n",
    "        session.write_transaction(batch_insert, occupation_query, rows)\n",
    "\n",
    "    # Insert Relationships\n",
    "    relation_query = \"\"\"\n",
    "    UNWIND $rows AS row\n",
    "    MATCH (o:Occupation {uri: row.occ_uri})\n",
    "    MATCH (s:Skill {uri: row.skill_uri})\n",
    "    MERGE (o)-[:REQUIRES {relationType: row.rel, skillType: row.stype}]->(s)\n",
    "    \"\"\"\n",
    "    for i in range(0, len(osr), CHUNK_SIZE):\n",
    "        chunk = osr.iloc[i:i+CHUNK_SIZE]\n",
    "        rows = chunk.rename(columns={\n",
    "            'occupationUri': 'occ_uri',\n",
    "            'skillUri': 'skill_uri',\n",
    "            'relationType': 'rel',\n",
    "            'skillType': 'stype'\n",
    "        }).to_dict('records')\n",
    "        session.write_transaction(batch_insert, relation_query, rows)\n",
    "\n",
    "driver.close()"
   ]
  },
  {
   "cell_type": "markdown",
   "metadata": {},
   "source": [
    "## Functions"
   ]
  },
  {
   "cell_type": "code",
   "execution_count": null,
   "metadata": {},
   "outputs": [],
   "source": [
    "# Function to retrieve skills for a specific job\n",
    "def get_skills_for_job(session, job_uri):\n",
    "    query = \"\"\"\n",
    "    MATCH (o:Occupation {uri: $job_uri})-[:REQUIRES]->(s:Skill)\n",
    "    RETURN s.uri AS skillUri, s.label AS skillLabel, s.type AS skillType\n",
    "    ORDER BY s.label\n",
    "    \"\"\"\n",
    "    result = session.run(query, job_uri=job_uri)\n",
    "    return [record.data() for record in result]\n",
    "\n",
    "# Function to retrieve jobs for a specific skill\n",
    "def get_jobs_for_skill(session, skill_uri):\n",
    "    query = \"\"\"\n",
    "    MATCH (s:Skill {uri: $skill_uri})<-[:REQUIRES]-(o:Occupation)\n",
    "    RETURN o.uri AS jobUri,\n",
    "           o.label AS jobLabel,\n",
    "           o.code AS jobCode,\n",
    "           s.reuseLevel AS reuseLevel\n",
    "    ORDER BY o.label\n",
    "    \"\"\"\n",
    "    result = session.run(query, skill_uri=skill_uri)\n",
    "    return [record.data() for record in result]\n",
    "\n",
    "# Query: Group skillTypes by reuseLevel\n",
    "def get_skill_types_grouped_by_reuse(tx, occupation_uri):\n",
    "    query = \"\"\"\n",
    "    MATCH (o:Occupation {uri: $occ_uri})-[:REQUIRES]->(s:Skill)\n",
    "    WHERE s.reuseLevel IS NOT NULL AND s.skillType IS NOT NULL\n",
    "    WITH s.reuseLevel AS reuseLevel, s.skillType AS skillType\n",
    "    RETURN reuseLevel, collect(DISTINCT skillType) AS skillTypes\n",
    "    ORDER BY reuseLevel\n",
    "    \"\"\"\n",
    "    result = tx.run(query, occ_uri=occupation_uri)\n",
    "    return [record.data() for record in result]\n"
   ]
  },
  {
   "cell_type": "markdown",
   "metadata": {},
   "source": [
    "## Example usage"
   ]
  },
  {
   "cell_type": "markdown",
   "metadata": {},
   "source": [
    "### Retrieve all skills for a specific job"
   ]
  },
  {
   "cell_type": "code",
   "execution_count": null,
   "metadata": {},
   "outputs": [],
   "source": [
    "# Create a Neo4j driver instance\n",
    "driver = GraphDatabase.driver(URI, auth=(USER, PASSWORD))\n",
    "\n",
    "# Define occupation uri\n",
    "occupation_uri = \"http://data.europa.eu/esco/occupation/000e93a3-d956-4e45-aacb-f12c83fedf84\"\n",
    "\n",
    "# Retrieve skills for a specific job\n",
    "with driver.session() as session:\n",
    "    skills = get_skills_for_job(session, occupation_uri)\n",
    "    for skill in skills:\n",
    "        print(skill)\n",
    "\n",
    "# Close the Neo4j driver\n",
    "driver.close()"
   ]
  },
  {
   "cell_type": "markdown",
   "metadata": {},
   "source": [
    "### Retrieve all jobs for a specific skill"
   ]
  },
  {
   "cell_type": "code",
   "execution_count": null,
   "metadata": {},
   "outputs": [],
   "source": [
    "# Create a Neo4j driver instance\n",
    "driver = GraphDatabase.driver(URI, auth=(USER, PASSWORD))\n",
    "\n",
    "# Select skill uri\n",
    "skill_uri = \"http://data.europa.eu/esco/skill/9ea652f6-accf-45bb-b9a8-590f06f7bd51\"\n",
    "\n",
    "# Retrieve jobs for a specific skill\n",
    "with driver.session() as session:\n",
    "    jobs = get_jobs_for_skill(session, skill_uri)\n",
    "    for job in jobs:\n",
    "        print(job)\n",
    "\n",
    "# Close the Neo4j driver\n",
    "driver.close()"
   ]
  }
 ],
 "metadata": {
  "kernelspec": {
   "display_name": "Python 3.11.12 ('esi-001')",
   "language": "python",
   "name": "python3"
  },
  "language_info": {
   "codemirror_mode": {
    "name": "ipython",
    "version": 3
   },
   "file_extension": ".py",
   "mimetype": "text/x-python",
   "name": "python",
   "nbconvert_exporter": "python",
   "pygments_lexer": "ipython3",
   "version": "3.11.12"
  },
  "vscode": {
   "interpreter": {
    "hash": "70b29d8b2c49042bf18c3ed9f91cd97fb75a2963a1be2dca66762440606e7c3b"
   }
  }
 },
 "nbformat": 4,
 "nbformat_minor": 2
}
