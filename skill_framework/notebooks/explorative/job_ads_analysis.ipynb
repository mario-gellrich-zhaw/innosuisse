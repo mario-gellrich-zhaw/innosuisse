{
 "cells": [
  {
   "cell_type": "markdown",
   "id": "219042a2-ad68-467d-af6a-4db4d4544d8a",
   "metadata": {},
   "source": [
    "# Analysis of Job Ads and Skill Extraction"
   ]
  },
  {
   "cell_type": "code",
   "execution_count": 1,
   "id": "b79b2ab9-9ee8-40ce-863c-eadee9f2ae50",
   "metadata": {},
   "outputs": [
    {
     "name": "stdout",
     "output_type": "stream",
     "text": [
      "/home/ec2-user/SageMaker/skill_framework/notebooks\n"
     ]
    }
   ],
   "source": [
    "# Settings\n",
    "import warnings\n",
    "warnings.filterwarnings(\"ignore\")\n",
    "\n",
    "# Libraries\n",
    "import os\n",
    "import re\n",
    "import time\n",
    "import json\n",
    "import boto3\n",
    "import gzip\n",
    "import ollama\n",
    "import pandas as pd\n",
    "from pprint import pprint\n",
    "from io import BytesIO\n",
    "\n",
    "from openai import OpenAI\n",
    "from keybert import KeyBERT\n",
    "from dotenv import load_dotenv\n",
    "from transformers import pipeline\n",
    "\n",
    "from sentence_transformers import SentenceTransformer, util\n",
    "\n",
    "import torch\n",
    "\n",
    "# Load spacy models (if not exist)\n",
    "import spacy\n",
    "import spacy.cli\n",
    "\n",
    "def ensure_spacy_model(model_name):\n",
    "    try:\n",
    "        return spacy.load(model_name)\n",
    "    except OSError:\n",
    "        spacy.cli.download(model_name)\n",
    "        return spacy.load(model_name)\n",
    "\n",
    "nlp_de = ensure_spacy_model(\"de_core_news_sm\")\n",
    "nlp_en = ensure_spacy_model(\"en_core_web_sm\")\n",
    "\n",
    "# Display current working directory\n",
    "print(os.getcwd())\n"
   ]
  },
  {
   "cell_type": "markdown",
   "id": "fdce0bb4",
   "metadata": {},
   "source": [
    "## Read list with JobCloud professions\n",
    "\n",
    "These are the official professions used in the search of www.jobs.ch"
   ]
  },
  {
   "cell_type": "code",
   "execution_count": 2,
   "id": "0fa1ccbd",
   "metadata": {},
   "outputs": [
    {
     "name": "stdout",
     "output_type": "stream",
     "text": [
      "DataFrame shape: (2331, 4)\n",
      "\n",
      "Column names:\n",
      "- ful_id\n",
      "- DE\n",
      "- EN\n",
      "- FR\n",
      "\n",
      "Sample data:\n"
     ]
    },
    {
     "data": {
      "text/html": [
       "<div>\n",
       "<style scoped>\n",
       "    .dataframe tbody tr th:only-of-type {\n",
       "        vertical-align: middle;\n",
       "    }\n",
       "\n",
       "    .dataframe tbody tr th {\n",
       "        vertical-align: top;\n",
       "    }\n",
       "\n",
       "    .dataframe thead th {\n",
       "        text-align: right;\n",
       "    }\n",
       "</style>\n",
       "<table border=\"1\" class=\"dataframe\">\n",
       "  <thead>\n",
       "    <tr style=\"text-align: right;\">\n",
       "      <th></th>\n",
       "      <th>ful_id</th>\n",
       "      <th>DE</th>\n",
       "      <th>EN</th>\n",
       "      <th>FR</th>\n",
       "    </tr>\n",
       "  </thead>\n",
       "  <tbody>\n",
       "    <tr>\n",
       "      <th>0</th>\n",
       "      <td>11000002</td>\n",
       "      <td>Assistent</td>\n",
       "      <td>Administrative Assistant</td>\n",
       "      <td>Assistant administratif</td>\n",
       "    </tr>\n",
       "    <tr>\n",
       "      <th>1</th>\n",
       "      <td>11000004</td>\n",
       "      <td>Team-Assistent</td>\n",
       "      <td>Team Assistant</td>\n",
       "      <td>Team Assistant</td>\n",
       "    </tr>\n",
       "    <tr>\n",
       "      <th>2</th>\n",
       "      <td>11000005</td>\n",
       "      <td>Allrounder</td>\n",
       "      <td>All-Rounder</td>\n",
       "      <td>Employé polyvalent</td>\n",
       "    </tr>\n",
       "    <tr>\n",
       "      <th>3</th>\n",
       "      <td>11000008</td>\n",
       "      <td>Assistent Betriebsleitung</td>\n",
       "      <td>Assistant Vice President</td>\n",
       "      <td>Adjoint au chef de département</td>\n",
       "    </tr>\n",
       "    <tr>\n",
       "      <th>4</th>\n",
       "      <td>11000009</td>\n",
       "      <td>Sachbearbeiter Back Office</td>\n",
       "      <td>Administrative Specialist</td>\n",
       "      <td>Administrative Expert</td>\n",
       "    </tr>\n",
       "    <tr>\n",
       "      <th>5</th>\n",
       "      <td>11000011</td>\n",
       "      <td>Büroangestellte</td>\n",
       "      <td>Office Clerk</td>\n",
       "      <td>Aide de bureau</td>\n",
       "    </tr>\n",
       "    <tr>\n",
       "      <th>6</th>\n",
       "      <td>11000013</td>\n",
       "      <td>Leiter Planung</td>\n",
       "      <td>Head of Planning</td>\n",
       "      <td>Directeur planification opérationnelle</td>\n",
       "    </tr>\n",
       "    <tr>\n",
       "      <th>7</th>\n",
       "      <td>11000014</td>\n",
       "      <td>Operativer Leiter</td>\n",
       "      <td>Chief Operating Officer</td>\n",
       "      <td>Chief Operation Officer</td>\n",
       "    </tr>\n",
       "    <tr>\n",
       "      <th>8</th>\n",
       "      <td>11000015</td>\n",
       "      <td>Datenerfasser</td>\n",
       "      <td>Data Entry Operator</td>\n",
       "      <td>Dactylographe</td>\n",
       "    </tr>\n",
       "    <tr>\n",
       "      <th>9</th>\n",
       "      <td>11000016</td>\n",
       "      <td>Assistent der Geschäftsleitung</td>\n",
       "      <td>Executive Assistant</td>\n",
       "      <td>Assistant de Direction</td>\n",
       "    </tr>\n",
       "  </tbody>\n",
       "</table>\n",
       "</div>"
      ],
      "text/plain": [
       "     ful_id                              DE                         EN  \\\n",
       "0  11000002                       Assistent   Administrative Assistant   \n",
       "1  11000004                  Team-Assistent             Team Assistant   \n",
       "2  11000005                      Allrounder                All-Rounder   \n",
       "3  11000008       Assistent Betriebsleitung   Assistant Vice President   \n",
       "4  11000009      Sachbearbeiter Back Office  Administrative Specialist   \n",
       "5  11000011                 Büroangestellte               Office Clerk   \n",
       "6  11000013                  Leiter Planung           Head of Planning   \n",
       "7  11000014               Operativer Leiter    Chief Operating Officer   \n",
       "8  11000015                   Datenerfasser        Data Entry Operator   \n",
       "9  11000016  Assistent der Geschäftsleitung        Executive Assistant   \n",
       "\n",
       "                                       FR  \n",
       "0                 Assistant administratif  \n",
       "1                          Team Assistant  \n",
       "2                      Employé polyvalent  \n",
       "3          Adjoint au chef de département  \n",
       "4                   Administrative Expert  \n",
       "5                          Aide de bureau  \n",
       "6  Directeur planification opérationnelle  \n",
       "7                 Chief Operation Officer  \n",
       "8                           Dactylographe  \n",
       "9                  Assistant de Direction  "
      ]
     },
     "execution_count": 2,
     "metadata": {},
     "output_type": "execute_result"
    }
   ],
   "source": [
    "# Define bucket and key\n",
    "bucket_name = 'jc-innosuisse'\n",
    "object_key = 'ad_data/profession_synonyms_id_primary_map.csv'\n",
    "\n",
    "# Initialize S3 client\n",
    "s3_client = boto3.client('s3')\n",
    "\n",
    "# Fetch object from S3\n",
    "response = s3_client.get_object(Bucket=bucket_name, Key=object_key)\n",
    "\n",
    "# Read CSV content directly using pandas\n",
    "csv_content = response['Body'].read()\n",
    "df_occjc = pd.read_csv(BytesIO(csv_content))\n",
    "\n",
    "# Display basic information\n",
    "print(f\"DataFrame shape: {df_occjc.shape}\")\n",
    "print(\"\\nColumn names:\")\n",
    "for col in df_occjc.columns:\n",
    "    print(f\"- {col}\")\n",
    "\n",
    "# Show sample data\n",
    "print(\"\\nSample data:\")\n",
    "df_occjc.head(10)"
   ]
  },
  {
   "cell_type": "markdown",
   "id": "25a77ab0",
   "metadata": {},
   "source": [
    "## Read job ads\n",
    "\n",
    "This is a sample (10,000 obs) of job ads from JobClouds ad inventory with > 5 mio. job ads."
   ]
  },
  {
   "cell_type": "code",
   "execution_count": 3,
   "id": "ffb23db2-ed2f-4870-8173-ea93ca0ff530",
   "metadata": {},
   "outputs": [
    {
     "name": "stdout",
     "output_type": "stream",
     "text": [
      "(10000, 27)\n",
      "id\n",
      "applicationEmail\n",
      "title\n",
      "leadText\n",
      "text\n",
      "html\n",
      "preview\n",
      "profession\n",
      "placeOfWork\n",
      "images\n",
      "links\n",
      "language\n",
      "employmentTypes\n",
      "employmentGrade\n",
      "employmentPositions\n",
      "baseSalary\n",
      "locations\n",
      "persons\n",
      "attributes\n",
      "platforms\n",
      "companiesPublishedOn\n",
      "company\n",
      "requirements\n",
      "updatedAt\n",
      "_version\n",
      "_links\n",
      "_type\n"
     ]
    },
    {
     "data": {
      "text/html": [
       "<div>\n",
       "<style scoped>\n",
       "    .dataframe tbody tr th:only-of-type {\n",
       "        vertical-align: middle;\n",
       "    }\n",
       "\n",
       "    .dataframe tbody tr th {\n",
       "        vertical-align: top;\n",
       "    }\n",
       "\n",
       "    .dataframe thead th {\n",
       "        text-align: right;\n",
       "    }\n",
       "</style>\n",
       "<table border=\"1\" class=\"dataframe\">\n",
       "  <thead>\n",
       "    <tr style=\"text-align: right;\">\n",
       "      <th></th>\n",
       "      <th>id</th>\n",
       "      <th>applicationEmail</th>\n",
       "      <th>title</th>\n",
       "      <th>leadText</th>\n",
       "      <th>text</th>\n",
       "      <th>html</th>\n",
       "      <th>preview</th>\n",
       "      <th>profession</th>\n",
       "      <th>placeOfWork</th>\n",
       "      <th>images</th>\n",
       "      <th>...</th>\n",
       "      <th>persons</th>\n",
       "      <th>attributes</th>\n",
       "      <th>platforms</th>\n",
       "      <th>companiesPublishedOn</th>\n",
       "      <th>company</th>\n",
       "      <th>requirements</th>\n",
       "      <th>updatedAt</th>\n",
       "      <th>_version</th>\n",
       "      <th>_links</th>\n",
       "      <th>_type</th>\n",
       "    </tr>\n",
       "  </thead>\n",
       "  <tbody>\n",
       "    <tr>\n",
       "      <th>0</th>\n",
       "      <td>5fed0746-a0d0-4559-8062-01df1ef952a0</td>\n",
       "      <td>rueti@ziwalig.ch</td>\n",
       "      <td>Supply Chain Manager</td>\n",
       "      <td>&lt;b&gt;Sie sind ein geschickter Verhandlungspartne...</td>\n",
       "      <td>&lt;b&gt;Ihre Aufgaben&lt;/b&gt;&lt;br /&gt;&lt;b&gt;&lt;/b&gt;Mitglied im i...</td>\n",
       "      <td>&lt;!DOCTYPE HTML PUBLIC \"-//W3C//DTD HTML 4.01 T...</td>\n",
       "      <td>None</td>\n",
       "      <td>Supply Chain Manager</td>\n",
       "      <td>None</td>\n",
       "      <td>[]</td>\n",
       "      <td>...</td>\n",
       "      <td>[]</td>\n",
       "      <td>[{'key': 'LEGACY_JOB_ID', 'value': 3613149, '_...</td>\n",
       "      <td>[{'name': 'JOBS', 'publications': [{'type': 'S...</td>\n",
       "      <td>[{'id': 'b9133ccb-d568-441e-ad93-466f23db907f'...</td>\n",
       "      <td>{'name': 'ZIWALIG AG Rüti', 'segment': 'PERSON...</td>\n",
       "      <td>{'languages': [{'language': 'de', 'level': 'FL...</td>\n",
       "      <td>2018-08-28T13:59:11+02:00</td>\n",
       "      <td>c39afe686a20b27b04ff662c59e080e6c04978c743630a...</td>\n",
       "      <td>{'self': {'href': '/job/5fed0746-a0d0-4559-806...</td>\n",
       "      <td>job</td>\n",
       "    </tr>\n",
       "    <tr>\n",
       "      <th>1</th>\n",
       "      <td>5104eb99-c228-4891-b147-4cc0269e4957</td>\n",
       "      <td>hr@bedag.ch</td>\n",
       "      <td>Solution Manager (w/m) mit Ausprägung Projekt-...</td>\n",
       "      <td>&lt;p&gt;&lt;/p&gt;&lt;p&gt;Für unseren Bereich IT-Services in B...</td>\n",
       "      <td>&lt;p&gt;Zu Ihrem Aufgabengebiet gehen die Planung u...</td>\n",
       "      <td>&lt;!DOCTYPE html&gt;\\n&lt;html lang=\"de\"&gt;\\n&lt;head&gt;\\n  &lt;...</td>\n",
       "      <td>None</td>\n",
       "      <td>Solution Manager (w/m) mit Ausprägung Projekt-...</td>\n",
       "      <td>None</td>\n",
       "      <td>[]</td>\n",
       "      <td>...</td>\n",
       "      <td>[]</td>\n",
       "      <td>[{'key': 'LEGACY_JOB_ID', 'value': 3613055, '_...</td>\n",
       "      <td>[{'name': 'JOBS', 'publications': [{'type': 'S...</td>\n",
       "      <td>[{'id': 'df1664bf-4df4-4647-8fe6-4297d7fc7cad'...</td>\n",
       "      <td>{'name': 'Bedag Informatik AG', 'segment': 'SM...</td>\n",
       "      <td>{'languages': [], 'workExperiences': [{'profes...</td>\n",
       "      <td>2018-08-28T13:59:12+02:00</td>\n",
       "      <td>79a208f5bbda86619fe8214191057fcbf60f1748073195...</td>\n",
       "      <td>{'self': {'href': '/job/5104eb99-c228-4891-b14...</td>\n",
       "      <td>job</td>\n",
       "    </tr>\n",
       "  </tbody>\n",
       "</table>\n",
       "<p>2 rows × 27 columns</p>\n",
       "</div>"
      ],
      "text/plain": [
       "                                     id  applicationEmail  \\\n",
       "0  5fed0746-a0d0-4559-8062-01df1ef952a0  rueti@ziwalig.ch   \n",
       "1  5104eb99-c228-4891-b147-4cc0269e4957       hr@bedag.ch   \n",
       "\n",
       "                                               title  \\\n",
       "0                               Supply Chain Manager   \n",
       "1  Solution Manager (w/m) mit Ausprägung Projekt-...   \n",
       "\n",
       "                                            leadText  \\\n",
       "0  <b>Sie sind ein geschickter Verhandlungspartne...   \n",
       "1  <p></p><p>Für unseren Bereich IT-Services in B...   \n",
       "\n",
       "                                                text  \\\n",
       "0  <b>Ihre Aufgaben</b><br /><b></b>Mitglied im i...   \n",
       "1  <p>Zu Ihrem Aufgabengebiet gehen die Planung u...   \n",
       "\n",
       "                                                html preview  \\\n",
       "0  <!DOCTYPE HTML PUBLIC \"-//W3C//DTD HTML 4.01 T...    None   \n",
       "1  <!DOCTYPE html>\\n<html lang=\"de\">\\n<head>\\n  <...    None   \n",
       "\n",
       "                                          profession placeOfWork images  ...  \\\n",
       "0                               Supply Chain Manager        None     []  ...   \n",
       "1  Solution Manager (w/m) mit Ausprägung Projekt-...        None     []  ...   \n",
       "\n",
       "  persons                                         attributes  \\\n",
       "0      []  [{'key': 'LEGACY_JOB_ID', 'value': 3613149, '_...   \n",
       "1      []  [{'key': 'LEGACY_JOB_ID', 'value': 3613055, '_...   \n",
       "\n",
       "                                           platforms  \\\n",
       "0  [{'name': 'JOBS', 'publications': [{'type': 'S...   \n",
       "1  [{'name': 'JOBS', 'publications': [{'type': 'S...   \n",
       "\n",
       "                                companiesPublishedOn  \\\n",
       "0  [{'id': 'b9133ccb-d568-441e-ad93-466f23db907f'...   \n",
       "1  [{'id': 'df1664bf-4df4-4647-8fe6-4297d7fc7cad'...   \n",
       "\n",
       "                                             company  \\\n",
       "0  {'name': 'ZIWALIG AG Rüti', 'segment': 'PERSON...   \n",
       "1  {'name': 'Bedag Informatik AG', 'segment': 'SM...   \n",
       "\n",
       "                                        requirements  \\\n",
       "0  {'languages': [{'language': 'de', 'level': 'FL...   \n",
       "1  {'languages': [], 'workExperiences': [{'profes...   \n",
       "\n",
       "                   updatedAt  \\\n",
       "0  2018-08-28T13:59:11+02:00   \n",
       "1  2018-08-28T13:59:12+02:00   \n",
       "\n",
       "                                            _version  \\\n",
       "0  c39afe686a20b27b04ff662c59e080e6c04978c743630a...   \n",
       "1  79a208f5bbda86619fe8214191057fcbf60f1748073195...   \n",
       "\n",
       "                                              _links _type  \n",
       "0  {'self': {'href': '/job/5fed0746-a0d0-4559-806...   job  \n",
       "1  {'self': {'href': '/job/5104eb99-c228-4891-b14...   job  \n",
       "\n",
       "[2 rows x 27 columns]"
      ]
     },
     "execution_count": 3,
     "metadata": {},
     "output_type": "execute_result"
    }
   ],
   "source": [
    "# Define bucket and key\n",
    "bucket_name = 'jc-innosuisse'\n",
    "object_key = 'ad_data/full_datapool_100000.json'\n",
    "# object_key = 'ad_data/full_datapool_anonymized.json.gz'\n",
    "\n",
    "# Initialize S3 client\n",
    "s3_client = boto3.client('s3')\n",
    "\n",
    "# Fetch object from S3\n",
    "response = s3_client.get_object(Bucket=bucket_name, Key=object_key)\n",
    "\n",
    "# Check if file is gzipped JSON or regular JSON\n",
    "if object_key.endswith('.json.gz'):\n",
    "    # Read and decompress the gzipped content\n",
    "    with gzip.GzipFile(fileobj=BytesIO(response['Body'].read())) as gz:\n",
    "        json_bytes = gz.read()\n",
    "    # Load JSON data into pandas DataFrame\n",
    "    data = json.loads(json_bytes.decode('utf-8'))\n",
    "elif object_key.endswith('.json'):\n",
    "    # For regular JSON, read directly\n",
    "    json_bytes = response['Body'].read()\n",
    "    data = json.loads(json_bytes.decode('utf-8'))\n",
    "else:\n",
    "    raise ValueError(f\"Unsupported file format: {object_key}. Expected .json or .json.gz\")\n",
    "\n",
    "# Create DataFrame\n",
    "df = pd.DataFrame(data)\n",
    "\n",
    "# Show shape\n",
    "print(df.shape)\n",
    "\n",
    "# Show column names\n",
    "for col in df.columns:\n",
    "    print(col)\n",
    "\n",
    "# Display DataFrame\n",
    "df.head(2)"
   ]
  },
  {
   "cell_type": "markdown",
   "id": "f2f60211",
   "metadata": {},
   "source": [
    "## Count 'id'"
   ]
  },
  {
   "cell_type": "code",
   "execution_count": 4,
   "id": "2f6d41a0",
   "metadata": {},
   "outputs": [
    {
     "data": {
      "text/plain": [
       "10000"
      ]
     },
     "execution_count": 4,
     "metadata": {},
     "output_type": "execute_result"
    }
   ],
   "source": [
    "# Count unique IDs\n",
    "df['id'].nunique()\n"
   ]
  },
  {
   "cell_type": "markdown",
   "id": "d45cf010",
   "metadata": {},
   "source": [
    "## Show 'leadText'"
   ]
  },
  {
   "cell_type": "code",
   "execution_count": 5,
   "id": "bf835683",
   "metadata": {},
   "outputs": [
    {
     "data": {
      "text/plain": [
       "'<b>Sie sind ein geschickter Verhandlungspartner!?</b><br><br>Unsere Mandantin ist ein weltweit marktführendes Unternehmen der High Tech-Industrie.'"
      ]
     },
     "execution_count": 5,
     "metadata": {},
     "output_type": "execute_result"
    }
   ],
   "source": [
    "# Print sample title\n",
    "df['leadText'][0]"
   ]
  },
  {
   "cell_type": "markdown",
   "id": "d9448911",
   "metadata": {},
   "source": [
    "## Show 'title'"
   ]
  },
  {
   "cell_type": "code",
   "execution_count": 6,
   "id": "0d99e783",
   "metadata": {},
   "outputs": [
    {
     "name": "stdout",
     "output_type": "stream",
     "text": [
      "7737 \n",
      "\n",
      "Supply Chain Manager\n",
      "Solution Manager (w/m) mit Ausprägung Projekt-/Bid- & Proposal-Management\n",
      "PMO Assistant\n",
      "Développeur z/OS\n",
      "Marketing Manager Konsumgüter\n",
      "Administrator System AIX/Solaris\n",
      "Elektrotechniker HF / eidg. dipl. Elektroinstallateur w/m\n",
      "Einkäufer (Mechanik)\n",
      "Dipl. Pflegefachfrau/-mann mit FA Intensivpflege 90%\n",
      "Produkt Manager Food (m/w)\n"
     ]
    }
   ],
   "source": [
    "# Count unique titles\n",
    "print(df['title'].nunique(), \"\\n\")\n",
    "\n",
    "# Print first titles\n",
    "for element in df['title'][:10]:\n",
    "    print(element)"
   ]
  },
  {
   "cell_type": "markdown",
   "id": "591a5cab",
   "metadata": {},
   "source": [
    "## Show 'text'"
   ]
  },
  {
   "cell_type": "code",
   "execution_count": 7,
   "id": "6c8be558",
   "metadata": {},
   "outputs": [
    {
     "data": {
      "text/plain": [
       "'<p>In dieser Position beraten Sie unsere Kundschaft umfassend und kompetent von der ersten Kontaktaufnahme an über Versicherungsfragen bis hin zur Fahrzeugablieferung. Arbeiten wie Offerterstellung, Eintauschgeschäfte oder Akquirieren von Neukunden und Pflege des bestehenden Kundenstammes sind weitere Punkte in Ihrem Aufgabenbereich.</p><p>Sie verfügen entweder über eine erfolgreich abgeschlossene Ausbildung in der Automobilbranche mit einer kaufmännischen Weiterbildung oder über eine kaufmännische Ausbildung im technischen Bereich. Als erfahrener Verkaufsprofi erzielen Sie durch Ihren Einsatz und Enthusiasmus beste Verkaufsergebnisse und überzeugen im täglichen Kontakt mit unseren Kunden durch Ihr professionelles Auftreten.</p><p>Wir wünschen uns eine gewinnende, charismatische und kommunikative Persönlichkeit, die ihre Begeisterung für das Automobil wirkungsvoll auf die Kundschaft zu übertragen weiss.</p><p>Es erwartet Sie einen den Leistungen entsprechenden Lohn, eine moderne Infrastruktur sowie die Vorteile einer starken Firmengruppe. Sie profitieren von guten Sozialleistungen und langfristigen Perspektiven. Ein Geschäftsfahrzeug wird Ihnen zur Verfügung gestellt.</p><p>Für weitere Informationen steht Ihnen Marc Stettler, 062 788 82 33 gerne zur Verfügung. Ihre Bewerbungsunterlagen senden Sie bitte an die Personalabteilung, Autocenter Safenwil.</p>'"
      ]
     },
     "execution_count": 7,
     "metadata": {},
     "output_type": "execute_result"
    }
   ],
   "source": [
    "# Print sample text\n",
    "df['text'][10]\n"
   ]
  },
  {
   "cell_type": "markdown",
   "id": "f3b08247",
   "metadata": {},
   "source": [
    "## Show 'profession'"
   ]
  },
  {
   "cell_type": "code",
   "execution_count": 8,
   "id": "eb7178f5",
   "metadata": {},
   "outputs": [
    {
     "name": "stdout",
     "output_type": "stream",
     "text": [
      "7717 \n",
      "\n",
      "Supply Chain Manager\n",
      "Solution Manager (w/m) mit Ausprägung Projekt-/Bid- & Proposal-Management\n",
      "PMO Assistant\n",
      "Développeur z/OS\n",
      "Marketing Manager Konsumgüter\n",
      "Administrator System AIX/Solaris\n",
      "Elektrotechniker HF / eidg. dipl. Elektroinstallateur w/m\n",
      "Einkäufer (Mechanik)\n",
      "Dipl. Pflegefachfrau/-mann mit FA Intensivpflege 90%\n",
      "Produkt Manager Food (m/w)\n"
     ]
    }
   ],
   "source": [
    "# Count unique professions\n",
    "print(df['profession'].nunique(), \"\\n\")\n",
    "\n",
    "# Print first professions \n",
    "for element in df['profession'][:10]:\n",
    "    print(element)"
   ]
  },
  {
   "cell_type": "markdown",
   "id": "fdc8abb3",
   "metadata": {},
   "source": [
    "## Show 'company' information"
   ]
  },
  {
   "cell_type": "code",
   "execution_count": 9,
   "id": "07d243c0",
   "metadata": {},
   "outputs": [
    {
     "data": {
      "text/plain": [
       "{'name': 'Emil Frey AG',\n",
       " 'segment': 'LARGE_FIRM',\n",
       " 'address': {'street': 'Badenerstrasse 600',\n",
       "  'postalCode': '8048',\n",
       "  'city': 'Zürich',\n",
       "  'countryCode': 'CH',\n",
       "  'latitude': None,\n",
       "  'longitude': None,\n",
       "  '_type': 'address'},\n",
       " 'images': [{'type': 'LOGO',\n",
       "   'description': None,\n",
       "   'url': 'https://img.jobs.ch/www/img/toplogos/5959.gif',\n",
       "   'weight': 1,\n",
       "   '_type': 'image'}],\n",
       " 'attributes': [{'key': 'LEGACY_COMPANY_ID',\n",
       "   'value': 5959,\n",
       "   '_type': 'attribute'}],\n",
       " '_type': 'embeddedCompany'}"
      ]
     },
     "execution_count": 9,
     "metadata": {},
     "output_type": "execute_result"
    }
   ],
   "source": [
    "# Print sample company info \n",
    "df['company'][10]\n"
   ]
  },
  {
   "cell_type": "markdown",
   "id": "7d807d20",
   "metadata": {},
   "source": [
    "## Show 'requirements'"
   ]
  },
  {
   "cell_type": "code",
   "execution_count": 10,
   "id": "e38a7332",
   "metadata": {},
   "outputs": [
    {
     "name": "stdout",
     "output_type": "stream",
     "text": [
      "{'_type': 'requirements',\n",
      " 'educations': [{'_type': 'education_requirement', 'level': 'UNIVERSITY'}],\n",
      " 'languages': [],\n",
      " 'workExperiences': [{'_type': 'work_experience_requirement',\n",
      "                      'position': 'PROFESSIONAL_RESPONSIBILITY',\n",
      "                      'profession': 'PROJECT_MANAGEMENT_ANALYSIS'}]}\n",
      "\n",
      "\n",
      "languages\n",
      "workExperiences\n",
      "educations\n",
      "_type\n"
     ]
    }
   ],
   "source": [
    "# Show structure of requirements\n",
    "pprint(df['requirements'][1])\n",
    "\n",
    "# Show first requirements from list\n",
    "print(\"\\n\")\n",
    "for element in df['requirements'][1]:\n",
    "    print(element)\n"
   ]
  },
  {
   "cell_type": "markdown",
   "id": "eff3b2dd",
   "metadata": {},
   "source": [
    "## Search for specific profession in job ads"
   ]
  },
  {
   "cell_type": "code",
   "execution_count": 11,
   "id": "6cb0abf4",
   "metadata": {},
   "outputs": [
    {
     "name": "stdout",
     "output_type": "stream",
     "text": [
      "233\n"
     ]
    },
    {
     "data": {
      "text/plain": [
       "['Dipl. Pflegefachfrau/-mann mit FA Intensivpflege 90%',\n",
       " 'Dipl. Pflegefachperson Temporär',\n",
       " 'dipl. Pflegefachpersonal',\n",
       " 'Dipl. Pflegefachperson HF für Kardiochirurgie',\n",
       " 'Dipl. Pflegefachperson HF oder Höfa 1 zu 80%-90%',\n",
       " 'Dipl. Pflegefachperson 60 - 100 % (104574)',\n",
       " 'Flexibles Pflegefachpersonal zu einem 60-100% Pensum',\n",
       " 'Dipl. Pflegefachfrau/-mann DNII / HF für temporäre Einsätze Altenpflege',\n",
       " 'Dipl. Pflegefachfrau/-mann mit FA Notfallpflege für temporäre Einsätze',\n",
       " 'Eine diplomierte Pflegefachfrau als Nachtwache 40-60%',\n",
       " 'Dipl. Pflegefachfrau/-mann mit FA OPS oder TOA für temporäre Einsätze',\n",
       " 'Dipl. Pflegefachfrau/-mann mit FA Intensivpflege, Arbeitspensum 80% -100%',\n",
       " 'Dipl. Pflegefachfrau/-mann mit FA OPS oder TOA für temporäre Einsätze',\n",
       " 'Pflegefachperson Neonatologie oder Expertin/Experte Intensivpflege',\n",
       " 'Dipl. Pflegefachfrau/-mann mit FA Intensivpflege 70-100%',\n",
       " 'Dipl. Pflegefachperson 50-60% bis Dezember 2011 für eine Spitex',\n",
       " 'Dipl. Pflegefachfrau/mann für den Bereich Wochenbett / Gynäkologie, Arbeitspensum 80% - 100%',\n",
       " 'Dipl. Pflegefachperson HF 100% Orthopädie/Rheumatologie',\n",
       " 'Flexibles Pflegefachpersonal zu einem 60-100% Pensum',\n",
       " 'Dipl. Pflegefachperson PSYKP',\n",
       " 'Dipl. Pflegefachfrau/mann DNII, HF, PsyKP',\n",
       " 'Dipl. Pflegefachperson HF/AKP 50-100% für Privatklinik',\n",
       " 'Dipl. Pflegefachperson/Stv. Leitung Betreuung + Pflege',\n",
       " 'Eine diplomierte Pflegefachfrau als Nachtwache 40-60%',\n",
       " 'Dipl. Pflegefachfrau/-mann mit FA OPS bzw. TOA  60-100%',\n",
       " 'Pflegefachleute 20-100%',\n",
       " 'qualifiziertes Pflegefachpersonal',\n",
       " 'Dipl. Pflegefachperson HF/DNII/AKP 80%-100%',\n",
       " 'Flexibles Pflegefachpersonal zu einem 60-100% Pensum',\n",
       " 'Dipl. Pflegefachperson HF gesucht in der Stadt Zürich',\n",
       " 'Dipl. Pflegefachfrau/-mann DNII / HF',\n",
       " '1 Dipl. Pflegefachperson DN I, HF und 1 Dipl. Pflegefachperson DN I, HF als Berufsbildner/in beides zu 80-100%',\n",
       " 'Dipl. Pflegefachfrau/-mann DNII / HF 30 - 70% temporäre Einsätze Altenpflege',\n",
       " 'Dipl. Pflegefachfrau/-mann DNII / HF',\n",
       " 'Forensik, dipl. Pflegefachfrau / Pflegefachmann 80%',\n",
       " 'dipl. Pflegefachperson DN I / DN II / HF / AKP 60 - 100%',\n",
       " 'Dipl. Pflegefachfrau/-mann HöFa I oder DAS/MAS 80 – 100% <br>für die Bettenabteilung der Klinik für Innere Medizin',\n",
       " 'Pflegefachperson (w/m, 60 - 100%)',\n",
       " 'Dipl. Pflegefachprsin 70-100% mit Aussicht auf Stv. StationsleiterIn',\n",
       " 'Dipl. Pflegefachperson mit FA OP Pflege oder TOA zu 80%- 100%',\n",
       " 'dipl. Pflegefachperson 80 - 100%',\n",
       " 'Pflegefachperson HF, DNII, AKP oder PsyKP ( 60-80%)',\n",
       " 'dipl. Pflegefachpersonen DN II / HF',\n",
       " 'Dipl. Pflegefachfrau/-mann mit FA OPS oder TOA 80 - 100%',\n",
       " 'Dipl. Pflegefachfrau/-mann / Hebamme / Entbindungshelfer 80 - 100% für die Frauenklinik',\n",
       " 'Dipl. Pflegefachperson 70-100% für Chirurgie Temp. oder Fest',\n",
       " 'Dipl. Pflegefachfrau / -mann für die kardiochirurgische Abteilung, 80-100%',\n",
       " 'Diplomierte Pflegefachfrau 80 - 100%',\n",
       " 'Dipl. Pflegefachpersonen 80-100% füt temporäre Einsätze Akut+Langzeit',\n",
       " 'Dipl. Pflegefachperson PSYKP für eine Wohngruppe',\n",
       " 'Dipl. Pflegefachpersonen (HF, DN II, AKP)  mit Erfahrung im Akutbereich',\n",
       " 'Dipl. Pflegefachperson DN I 70-100%',\n",
       " 'dipl. Pflegefachfrau/-mann HF 80-100%',\n",
       " 'Dipl. Pflegefachfrau/-mann HöFa I 100%',\n",
       " 'Fachangstellte Gesundheit oder/ Dipl. Pflegefachperson DN I oder DN II',\n",
       " 'dipl. Pflegefachperson 60 - 100%',\n",
       " 'Pflegefachperson HF/DN II/AKP oder PsyKP 60-100% Langzeit',\n",
       " 'diplomierte Pflegefachperson, DN 2, AKP oder HF 60-80%',\n",
       " 'Dipl.Pflegefachperson DN I / DN II, PSYKP',\n",
       " 'Dipl. Pflegefachfrau/ mann DNI/DNII/HF für den Nachtdienst Pensum 70%',\n",
       " 'Dipl. Pflegefachperson FA Anästhesie/ Stv. Leiter/in Rettungsdienst 100%',\n",
       " 'Diplomierte Pflegefachperson 80%',\n",
       " 'Dipl. Pflegefachfrauen/-männer DNII/ AKP/ HF',\n",
       " 'Dipl. Pflegefachfrau/-mann DNII / HF mit Schwerpunkt Chirurgie',\n",
       " 'Dipl. Pflegefachfrau/-mann DN II / HF für temporäre Einsätze',\n",
       " 'Dipl. Pflegefachfrau/-mann DN I, DN II, HF',\n",
       " 'Dipl. Pflegefachfrau/-mann DN I, FAGE 50-100%',\n",
       " 'Dipl. Pflegefachfrau/-mann DNII / HF 80 - 100% Chirurgie',\n",
       " 'Dipl. Pflegefachperson PSYKP',\n",
       " 'Dipl. Pflegefachfrau/-mann HF 100%',\n",
       " 'Dipl. Pflegefachpersonen Psychiatrie 60 - 100 %',\n",
       " 'Dipl. Pflegefachfrau/mann PsyKP, DNII, HF 60-90% im Spitexzentrum',\n",
       " 'Dipl. Pflegefachfrau/mann HF/DNII für die Privatstation Chirurgie/Orthopädie',\n",
       " 'Dipl. Pflegefachfrau /-mann DN II / HF für temporäre Einsätze in der Stadt Zürich',\n",
       " 'Dipl. Pflegefachperson HF oder DN I temporär 50-60% Pensum',\n",
       " 'Dipl. Pflegefachfrau/-mann mit FA in Intensivpflege als Berufsbildner/in',\n",
       " 'Pflegefachperson HF oder DN I für die Spitex 40 - 80%',\n",
       " 'Diplomierte Pflegefachperson 70-80%',\n",
       " 'Dipl. Pflegefachfrau/-mann DNI, DN II, HF 80%',\n",
       " 'Dipl. Pflegefachfrau/-mann DNII / HF',\n",
       " 'Flexibles Pflegefachpersonal zu einem 60-100% Pensum',\n",
       " 'Pflegefachfrau/-mann 100%',\n",
       " 'Dipl. Pflegefachfrau/-mann mit FA in Intensivpflege',\n",
       " 'Diplomierte Pflegefachperson DN I oder HF 40 - 80 %',\n",
       " 'Pflegefachperson OPS',\n",
       " 'dipl. Pflegefachpersonen DN II / HF',\n",
       " 'dipl. Pflegefachfrau oder FAGE 50 - 100%',\n",
       " 'Dipl. Pflegefachperson Psykp',\n",
       " 'Dipl. Pflegefachperson 20-30% für Privatkunden',\n",
       " 'Pflegefachfrau/-mann FA OP oder Fachfrau/-mann Operationstechnik / TOA / OTA',\n",
       " 'Dipl. Pflegefachpersonen HF und FAGE 80-100%',\n",
       " 'Dipl.Pflegefachperson 80%- 100%',\n",
       " 'Dipl. Pflegefachfrau/-mann HF',\n",
       " 'Dipl. Pflegefachperson HF zu 80% - 100%',\n",
       " 'Dipl. Pflegefachfrau/-mann mit FA Intensivpflege',\n",
       " 'Dipl. Pflegefachperson 50-60% bis Dezember 2011 für eine Spitex',\n",
       " 'Dipl. OP-Pflegefachfrau/-mann oder Dipl. Fachfrau/-mann Operationstechnik (100%), Operationsabteilung Spital Flawil, Ref. 1277D',\n",
       " 'Pflegefachfrau/mann, Gesundheitsschwester (50%)',\n",
       " 'Dipl. Pflegefachperson HF für Kardiochirurgie',\n",
       " 'Dipl. Pflegefachfrau HF, DNII, AKP 60 - 100%.',\n",
       " 'Dipl. Pflegefachfrau/-mann 90%',\n",
       " 'Dipl. Pflegefachperson 50-100% für Wohngruppe',\n",
       " 'Diplomierte Pflegefachfrau /-mann OPS / TOA mit Fachausweis und viel Erfahrung für temporären Einsatz in der Stadt Zürich',\n",
       " 'Dipl. Pflegefachperson IPS mit Fachausweis für einen temporären Einsatz in den Bergen',\n",
       " 'dipl. Pflegefachperson o. FAGE EFZ im Nachtdienst  60 - 80%',\n",
       " 'Dipl. Pflegefachperson 20-50% für Privatkundin',\n",
       " 'Dipl. Pflegefachperson HF/DNI 40-80% als Dauernachtwache',\n",
       " 'Pflegefachperson (DN II) 80 %',\n",
       " 'Pflegefachfrau 50  100% mit Tagesverantwortung',\n",
       " 'dipl. Pflegefachperson Psychiatrie',\n",
       " 'Dipl. Pflegefachfrau/Pflegefachmann DNII / HF 50%',\n",
       " 'Dipl. Pflegefachfrau im  Nachtdienst (145275)',\n",
       " 'Pflegefachpersonen DN I, DN II, HF, PsyKp',\n",
       " 'Dipl. Pflegefachperson 50-60% bis Dezember 2011 für eine Spitex',\n",
       " 'dipl. Pflegefachfrau/-mann 100%',\n",
       " 'Dipl. Pflegefachfrau/-mann Anästhesiepflege',\n",
       " 'dipl. Pflegefachperson 70-100%',\n",
       " 'Dipl. Pflegefachfrau/-mann, 40-50%, APZ',\n",
       " 'Pflegefachperson DN I oder FaGe 60-80% (109472)',\n",
       " 'Dipl. Pflegefachperson HF gesucht in der Stadt Zürich',\n",
       " 'Dipl. Pflegefachfrau/-fachmann HF (AKP / DN II) Schwerpunkt Medizin, Palliativ, Onkologie',\n",
       " 'Pflegefachpersonen HF, AKP, DN II, psych. KP Pensum 40-60%',\n",
       " 'Eine diplomierte Pflegefachfrau als Nachtwache 40-60%',\n",
       " 'dipl. Pflegefachperson 80-100%',\n",
       " 'Diplomierte Pflegefachperson Anästhesie 80-100%',\n",
       " 'Pflegefachperson / kleine Wohngruppe / TEMPORÄR 80-100%',\n",
       " 'Diplomierte Pflegefachperson DNI, DNII, HF 80 %',\n",
       " 'dipl. Pflegefachperson HF 50 % (156279)',\n",
       " 'TEST - Dipl. Pflegefachfrau/-mann DNII / HF als Ausbildner/in 80-100%',\n",
       " 'Dipl. Pflegefachpersonen Akut',\n",
       " 'dipl. Pflegefachperson DN II 60-100%',\n",
       " 'Fachfrau/-mann Operationstechnik  / Dipl. Pflegefachperson Fa OP',\n",
       " 'Dipl. Pflegefachperson HF mit FA Anästhesie, 80-100% temporär',\n",
       " 'Dipl. Pflegefachperson HF oder DN I, 80 % als Dauernachtwache oder für den Spätdienst',\n",
       " 'Dipl. Pflegefachmann HF 80 - 100%',\n",
       " 'Dipl. Pflegefachfrau/-mann DNI, DN II, HF',\n",
       " 'Dipl. Pflegefachfrau/-mann für die IMC',\n",
       " 'Diplomierte Pflegefachperson DNI, DNII oder HF 80 - 100%',\n",
       " 'Pflegefachfrau / -mann DNII / HF 80 - 100% für Wochenbettstation',\n",
       " 'Dipl. Pflegefachperson 80 - 100%',\n",
       " 'Dipl. Pflegefachfrau /-fachmann HF und/oder HöFa I, 80 - 100%',\n",
       " 'Pflegefachperson DN I, DN II, AKP, PsyKP, HF 60 % - 80 %',\n",
       " 'Dipl. Pflegefachfrau/-mann Notfallstation (50-100%)',\n",
       " 'Pflegefachperson PsyKP, ca. 40% (oder mit Psychiatriezulassung)',\n",
       " 'Dipl. Pflegefachperson 20-50% für Privatkundin',\n",
       " 'Dipl. Pflegefachfrau/-mann FA Intensivpflege',\n",
       " 'Dipl. Pflegefachfrau/-mann mit FA in Intensivpflege 100%',\n",
       " 'dipl. Pflegefachperson FA Inte [...]',\n",
       " 'Dipl. Pflegefachperson HF für Kardiochirurgie',\n",
       " 'dipl.Pflegefachpersonal',\n",
       " 'Dipl. Pflegefachperson HF für Kardiochirurgie',\n",
       " 'dipl. Pflegefachpersonen 50 - 100 %',\n",
       " 'Dipl. Pflegefachfrau / -mann für die kardiochirurgische Abteilung, 80-100%',\n",
       " 'Dipl. Pflegefachperson IPS mit Fachausweis für einen temporären Einsatz in den Bergen',\n",
       " 'Dipl. Pflegefachfrau/-mann DNII / HF Schwerpunkt Chirurgie',\n",
       " 'Dipl. Pflegefachperson HF oder DN II, 70 - 85 %',\n",
       " 'Pflegefachperson HF 80 % mit Berufserfahrung',\n",
       " 'Dipl. Pflegefachfrau/-mann 80%\\r\\r\\nfür die Bettenstation der Onkologie und Radioonkologie',\n",
       " 'Pflegefachperson Anästhesie für Zürich Stadt',\n",
       " 'Dipl. Pflegefachfrau/-mann 70 - 80%\\r\\r\\nfür die Klinik für Innere Medizin',\n",
       " 'Dipl. Pflegefachfrau/-mann 60 - 100%\\r\\r\\nfür die interdisziplinäre Privatabteilung',\n",
       " 'Dipl. Pflegefachperson HF/AKP 50-100% für Privatklinik',\n",
       " 'Diplomierte Pflegefachperson HF 80 - 100% (m/w)',\n",
       " 'Pflegefachfrau/mann DN I, DN II, HF, AKP oder PsyKP 60%',\n",
       " 'TOA oder Pflegefachmann / -frau mit FA Operationspflege',\n",
       " 'Dipl. Pflegefachfrau/-mann mit FA in Intensivpflege als Berufsbildner/in',\n",
       " 'FASRK oder diplomierte Pflegefachperson DNI,DNII,AKP, HF 80%',\n",
       " 'Dipl. Pflegefachfrau/mann DN I, DN II, HF',\n",
       " 'Dipl.Pflegefachperson DN I / DN II, PSYKP',\n",
       " 'qualifiziertes Pflegefachpersonal',\n",
       " 'dipl. Pflegefachpersonen DN II / HF',\n",
       " 'Dipl. Pflegefachperson HF im Nachtdienst zu 40%',\n",
       " 'Pflegefachperson / Berufsbildner/-in 70  80 % (FABE, DN1)',\n",
       " 'Pflegefachperson 50 %',\n",
       " 'diplomierte Pflegefachpersonen',\n",
       " 'Dipl. Pflegefachfrau/-mann HF, temporär \\t80%',\n",
       " 'Dipl. Pflegefachfrau/-mann OPS / TOA für Tagesklinik',\n",
       " 'Dipl. Pflegefachperson 80-100% temporär Chirurgie',\n",
       " 'Dipl. Pflegefachpersonen DN I oder HF und eine FAGE temporär',\n",
       " 'Dipl. Pflegefachfrau/mann DN I, DN II, HF',\n",
       " 'Pflegefachfrau/-mann 80-100%',\n",
       " 'Pflegefachfrau/-mann',\n",
       " 'Dipl. Pflegefachfrau/-mann Notfall / AWR 50 - 100%',\n",
       " 'Pflegefachfrau/-mann 40-50%, befristet',\n",
       " 'Dipl. Pflegefachperson HF oder DNI 80-100%',\n",
       " 'Dipl. Pflegefachfrau / -mann HF 80-100%, Rehab',\n",
       " 'Dipl. Pflegefachperson PSYKP für eine Wohngruppe',\n",
       " 'Dipl. Pflegefachperson IPS mit Fachausweis für einen temporären Einsatz in den Bergen',\n",
       " 'diplomierte Pflegefachfrau/-mann DNI, DNII, AKP, HF 80-100% (temporär)',\n",
       " 'Pflegefachperson HF',\n",
       " 'Dipl. Pflegefachperson HF oder DNI 80-100%',\n",
       " 'Dipl. Pflegefachfrau/-mann HF / IMC Station',\n",
       " 'Dipl. Pflegefachfrau/-mann OPS / TOA für Tagesklinik 60-80%',\n",
       " 'Dipl. Pflegefachperson HF/FH 50-100%.',\n",
       " 'Dipl. Pflegefachfrau/-mann DNII / HF 80%',\n",
       " 'Dipl. Pflegefachfrau/-mann mit FA Notfallpflege 80-100%',\n",
       " 'Dipl. Pflegefachfrau/-mann mit FA Notfallpflege für temporäre Einsätze',\n",
       " 'Dipl. Pflegefachfrau/mann DN II, AKP, PSYKP',\n",
       " 'Dipl. Pflegefachperson HF, 80-100%, für Zürich-Oberland bis Bodensee',\n",
       " 'Pflegefachperson DN I / DN II / HF für das Zürcher Oberland bis Bodensee',\n",
       " 'Dipl. Pflegefachpersonen DN II / AKP für temporäre Einsätze in Kliniken / Spitälern der Stadt Zürich',\n",
       " 'Fachangstellte Gesundheit oder/ Dipl. Pflegefachperson DN I oder DN II',\n",
       " 'Dipl. Pflegefachpersonen 60-100%',\n",
       " 'dipl. Pflegefachpersonen für den Bereich Spitex 60-100%',\n",
       " 'Dipl. Pflegefachpersonen',\n",
       " 'Diplomierte Pflegefachfau 100%',\n",
       " 'Dipl. Pflegefachperson HF für Kardiochirurgie',\n",
       " 'Dipl. Pflegefachfrau/-mann FA IPS 80 - 100%',\n",
       " 'Dipl. Pflegefachfrau/-mann FA Notfall 80-100%',\n",
       " 'qualifiziertes Pflegefachpersonal',\n",
       " 'Pflegefachperson DN I / DN II / HF für das Zürcher Oberland bis Bodensee',\n",
       " 'Pflegefachfrau/-mann 80-100%',\n",
       " 'Dipl. Pflegefachfrau/-mann OP/ Tech. Operationsfachfrau/-mann / OT HF',\n",
       " 'Dipl. Pflegefachfrau/-mann mit FA OPS oder TOA für temporäre Einsätze',\n",
       " 'qualifiziertes Pflegefachpersonal',\n",
       " 'Fachperson Operationstechnik HF oder Pflegefachperson FA Operationstechnik 50% & 100%',\n",
       " 'Fachangestellte/r Gesundheit und eine Dipl. Pflegefachperson HF/ AKP',\n",
       " 'Dipl. Pflegefachfrau/-mann OPS / TOA für Tagesklinik 60-80%',\n",
       " 'Dipl. Pflegefachperson / ab 30 % / nachts',\n",
       " 'Dipl. Pflegefachfrau/-mann mit FA Intensivpflege',\n",
       " 'TOA oder Pflegefachmann / -frau mit FA Operationspflege',\n",
       " 'Pflegefachperson (m/w, DN II oder HF)',\n",
       " 'Dipl. Pflegefachfrau/-mann DNII / HF 80 - 100% Chirurgie',\n",
       " 'Dipl. Pflegefachfrau/-mann mit FA OPS oder TOA für temporäre Einsätze',\n",
       " 'Diplomiertes Pflegefachpersonal (80-100%)',\n",
       " 'Dipl. Pflegefachfrau/mann DN I, DN II, HF',\n",
       " 'Dipl. Pflegefachperson (m/w) FA IPS',\n",
       " 'Dipl. Pflegefachfrau/-mann mit FA Notfallpflege für temporäre Einsätze',\n",
       " 'Dipl. Pflegefachfrau/-mann DNII / HF Palliativ Care',\n",
       " 'Engagierte/r TOA oder Pflegefachmann/-frau mit FA Operationspflege',\n",
       " 'Dipl. Pflegefachperson 80%-100% für Kardiologie',\n",
       " 'Dipl. Pflegefachfrau / -mann DN II',\n",
       " 'Pflegefachperson HF/DN II/AKP oder PsyKP 60-100% Langzeit']"
      ]
     },
     "execution_count": 11,
     "metadata": {},
     "output_type": "execute_result"
    }
   ],
   "source": [
    "# Check if term is in list\n",
    "matching_entries = df[df['profession'].str.contains('.*Pflegefach.*', regex=True, na=False)]['profession'].tolist()\n",
    "\n",
    "# Show occurences\n",
    "print(len(matching_entries))\n",
    "\n",
    "# Show matches\n",
    "matching_entries"
   ]
  },
  {
   "cell_type": "markdown",
   "id": "a21e0fd5",
   "metadata": {},
   "source": [
    "## Extract skills\n",
    "\n",
    "The goal here is to test different methods to extract the skills from the job describtions (field: text).\n",
    "The methode are:  \n",
    "- extracting skills through locally deployed LLM\n",
    "- Extracting skills through GPT model (OpenAI API)\n",
    "- Semantic search via sentence transformer based on ESCO - skills\n",
    "- Extract named entities (no NER 'skills' available) using a pretrained NER model\n",
    "- Unsupervised keyphrase extraction with keybert\n",
    "\n",
    "First Fazit: \n",
    "- The highest accuracy provides the GPT model followed by a much smaller locally deployed LLM.\n",
    "- The challenge with the GPT model is the price per token. \n",
    "- The challenge with the locally deployed LLM is the latency."
   ]
  },
  {
   "cell_type": "code",
   "execution_count": 12,
   "id": "857e59d6",
   "metadata": {},
   "outputs": [
    {
     "name": "stdout",
     "output_type": "stream",
     "text": [
      "Title: Automobilverkäufer für die Marke Lancia\n"
     ]
    },
    {
     "data": {
      "text/plain": [
       "'<p>In dieser Position beraten Sie unsere Kundschaft umfassend und kompetent von der ersten Kontaktaufnahme an über Versicherungsfragen bis hin zur Fahrzeugablieferung. Arbeiten wie Offerterstellung, Eintauschgeschäfte oder Akquirieren von Neukunden und Pflege des bestehenden Kundenstammes sind weitere Punkte in Ihrem Aufgabenbereich.</p><p>Sie verfügen entweder über eine erfolgreich abgeschlossene Ausbildung in der Automobilbranche mit einer kaufmännischen Weiterbildung oder über eine kaufmännische Ausbildung im technischen Bereich. Als erfahrener Verkaufsprofi erzielen Sie durch Ihren Einsatz und Enthusiasmus beste Verkaufsergebnisse und überzeugen im täglichen Kontakt mit unseren Kunden durch Ihr professionelles Auftreten.</p><p>Wir wünschen uns eine gewinnende, charismatische und kommunikative Persönlichkeit, die ihre Begeisterung für das Automobil wirkungsvoll auf die Kundschaft zu übertragen weiss.</p><p>Es erwartet Sie einen den Leistungen entsprechenden Lohn, eine moderne Infrastruktur sowie die Vorteile einer starken Firmengruppe. Sie profitieren von guten Sozialleistungen und langfristigen Perspektiven. Ein Geschäftsfahrzeug wird Ihnen zur Verfügung gestellt.</p><p>Für weitere Informationen steht Ihnen Marc Stettler, 062 788 82 33 gerne zur Verfügung. Ihre Bewerbungsunterlagen senden Sie bitte an die Personalabteilung, Autocenter Safenwil.</p>'"
      ]
     },
     "execution_count": 12,
     "metadata": {},
     "output_type": "execute_result"
    }
   ],
   "source": [
    "# Create subset of columns \n",
    "df_sub = df[['id', 'title', 'profession', 'text']]\n",
    "\n",
    "# Show title\n",
    "print(\"Title:\", df_sub['title'][10])\n",
    "\n",
    "# Show single text\n",
    "df_sub['text'][10]"
   ]
  },
  {
   "cell_type": "markdown",
   "id": "d80848ea",
   "metadata": {},
   "source": [
    "## Extracting skills through locally deployed LLM"
   ]
  },
  {
   "cell_type": "code",
   "execution_count": 13,
   "id": "fc3c7176",
   "metadata": {},
   "outputs": [
    {
     "name": "stdout",
     "output_type": "stream",
     "text": [
      "  Technische Skills:\n",
      "  -   Automobilbranche\n",
      "  -   Kaufmännische Weiterbildung\n",
      "  -   Technische Ausbildung\n",
      "  Transversale Skills:\n",
      "  -   Verkauf\n",
      "  -   Kommunikation\n",
      "  -   Überzeugungskraft\n",
      "  -   Kundenservice\n",
      "  -   Persönliches Auftreten\n",
      "  -   Sachliche Beratung\n",
      "  -   Verhandlungsgeschäfte\n",
      "  -   Kundenbeziehungen \n",
      "\n",
      "CPU times: user 3.23 ms, sys: 3.3 ms, total: 6.53 ms\n",
      "Wall time: 22.6 s\n"
     ]
    }
   ],
   "source": [
    "%%time\n",
    "\n",
    "# Send prompt to the locally running LLM\n",
    "response = ollama.chat(\n",
    "    model='gemma3:1b',\n",
    "    messages=[\n",
    "        {\n",
    "            'role': 'user',\n",
    "            'content': (\n",
    "                \"Extrahiere technische und transversale Skills aus dem folgenden Text \"\n",
    "                \"(kommagetrennt pro Zeile):\\n\\n\" + df_sub['text'][10]\n",
    "            ),\n",
    "        }\n",
    "    ]\n",
    ")\n",
    "\n",
    "# Extract content string\n",
    "raw_text = response.message.content\n",
    "\n",
    "# Function to format the code\n",
    "def format_skills(text: str) -> str:\n",
    "    text = text.replace(\"*\", \"-\")\n",
    "    lines = [line.strip() for line in text.strip().splitlines() if line.strip()]\n",
    "\n",
    "    output_lines = []\n",
    "    current_section = None\n",
    "\n",
    "    for line in lines:\n",
    "        clean_line = line.lower().replace(\"-\", \"\").strip()\n",
    "        \n",
    "        if \"technische skills\" in clean_line:\n",
    "            current_section = \"Technische Skills\"\n",
    "            output_lines.append(f\"  {current_section}:\")\n",
    "        elif \"transversale skills\" in clean_line:\n",
    "            current_section = \"Transversale Skills\"\n",
    "            output_lines.append(f\"  {current_section}:\")\n",
    "        elif current_section and line.startswith(\"-\"):\n",
    "            output_lines.append(f\"  {line}\")\n",
    "\n",
    "    return \"\\n\".join(output_lines)\n",
    "\n",
    "# Format and print\n",
    "formatted_output = format_skills(raw_text)\n",
    "print(formatted_output, \"\\n\")\n"
   ]
  },
  {
   "cell_type": "markdown",
   "id": "fa8d5f28",
   "metadata": {},
   "source": [
    "## Extracting skills through GPT model (OpenAI API)"
   ]
  },
  {
   "cell_type": "markdown",
   "id": "c65f0d31",
   "metadata": {},
   "source": [
    "### Anonymize text"
   ]
  },
  {
   "cell_type": "code",
   "execution_count": 14,
   "id": "1f14d266",
   "metadata": {},
   "outputs": [
    {
     "name": "stdout",
     "output_type": "stream",
     "text": [
      "<p>In dieser Position beraten Sie unsere Kundschaft umfassend und kompetent von der ersten Kontaktaufnahme an über Versicherungsfragen bis hin zur Fahrzeugablieferung. Arbeiten wie Offerterstellung, Eintauschgeschäfte oder Akquirieren von Neukunden und Pflege des bestehenden Kundenstammes sind weitere Punkte in Ihrem Aufgabenbereich.</p><p>Sie verfügen entweder über eine erfolgreich abgeschlossene Ausbildung in der Automobilbranche mit einer kaufmännischen Weiterbildung oder über eine kaufmännische Ausbildung im technischen Bereich. Als erfahrener Verkaufsprofi erzielen Sie durch Ihren Einsatz und Enthusiasmus beste Verkaufsergebnisse und überzeugen im täglichen Kontakt mit unseren Kunden durch Ihr professionelles Auftreten.</p><p>Wir wünschen uns eine gewinnende, charismatische und kommunikative Persönlichkeit, die ihre Begeisterung für das Automobil wirkungsvoll auf die Kundschaft zu übertragen weiss.</p><p>Es erwartet Sie einen den Leistungen entsprechenden Lohn, eine moderne Infrastruktur sowie die Vorteile einer starken Firmengruppe. Sie profitieren von guten Sozialleistungen und langfristigen Perspektiven. Ein Geschäftsfahrzeug wird Ihnen zur Verfügung gestellt.</p><p>Für weitere Informationen steht Ihnen Marc Stettler, 062 788 82 33 gerne zur Verfügung. Ihre Bewerbungsunterlagen senden Sie bitte an die Personalabteilung, Autocenter Safenwil.</p> \n",
      "\n",
      "<p>In dieser Position beraten Sie unsere Kundschaft umfassend und kompetent von der ersten Kontaktaufnahme an über Versicherungsfragen bis hin zur Fahrzeugablieferung. Arbeiten wie Offerterstellung, Eintauschgeschäfte oder Akquirieren von Neukunden und Pflege des bestehenden Kundenstammes sind weitere Punkte in Ihrem Aufgabenbereich.</p><p>Sie verfügen entweder über eine erfolgreich abgeschlossene Ausbildung in der Automobilbranche mit einer kaufmännischen Weiterbildung oder über eine kaufmännische Ausbildung im technischen Bereich. Als erfahrener Verkaufsprofi erzielen Sie durch Ihren Einsatz und Enthusiasmus beste Verkaufsergebnisse und überzeugen im täglichen Kontakt mit unseren Kunden durch Ihr professionelles Auftreten.</p><p>Wir wünschen uns eine gewinnende, charismatische und kommunikative Persönlichkeit, die ihre Begeisterung für das Automobil wirkungsvoll auf die Kundschaft zu übertragen weiss.</p><p>Es erwartet Sie einen den Leistungen entsprechenden Lohn, eine moderne Infrastruktur sowie die Vorteile einer starken Firmengruppe. Sie profitieren von guten Sozialleistungen und langfristigen Perspektiven. Ein Geschäftsfahrzeug wird Ihnen zur Verfügung gestellt.</p><p>Für weitere Informationen steht Ihnen [REDACTED NAME], [REDACTED PHONE] gerne zur Verfügung. Ihre Bewerbungsunterlagen senden Sie bitte an die Personalabteilung, Autocenter Safenwil.</p>\n"
     ]
    }
   ],
   "source": [
    "# Load spaCy's German model\n",
    "nlp = spacy.load(\"de_core_news_sm\")\n",
    "\n",
    "# Function to anonymize text\n",
    "def anonymize_text(text):\n",
    "    doc = nlp(text)\n",
    "    redacted_text = text\n",
    "    spans_to_replace = []\n",
    "\n",
    "    # --- Names and Company Names ---\n",
    "    for ent in doc.ents:\n",
    "        if ent.label_ == \"PER\":\n",
    "            spans_to_replace.append((ent.start_char, ent.end_char, \"[REDACTED NAME]\"))\n",
    "        elif ent.label_ == \"ORG\":\n",
    "            spans_to_replace.append((ent.start_char, ent.end_char, \"[REDACTED COMPANY]\"))\n",
    "\n",
    "    # Replace in reverse order\n",
    "    for start, end, replacement in sorted(spans_to_replace, reverse=True):\n",
    "        redacted_text = redacted_text[:start] + replacement + redacted_text[end:]\n",
    "\n",
    "    # --- Phone Numbers ---\n",
    "    phone_patterns = [\n",
    "        r'(\\+|00)?41[\\s\\-]?\\d{2}([\\s\\-]?\\d{2}){3}',\n",
    "        r'\\b\\d{3}[\\s\\-]?\\d{3}[\\s\\-]?\\d{2}[\\s\\-]?\\d{2}\\b',\n",
    "        r'(?:(?:\\+|00)41\\s?|0)\\d{2}\\s?\\d{3}\\s?\\d{2}\\s?\\d{2}'\n",
    "    ]\n",
    "    for pattern in phone_patterns:\n",
    "        redacted_text = re.sub(pattern, \"[REDACTED PHONE]\", redacted_text)\n",
    "\n",
    "    # --- Email Addresses ---\n",
    "    email_pattern = r'[\\w\\.-]+@[\\w\\.-]+\\.\\w+'\n",
    "    redacted_text = re.sub(email_pattern, \"[REDACTED EMAIL]\", redacted_text)\n",
    "\n",
    "    return redacted_text\n",
    "\n",
    "# Call function\n",
    "pos = 10\n",
    "text = anonymize_text(df_sub['text'][pos])\n",
    "print(df_sub['text'][pos], \"\\n\")\n",
    "print(text)"
   ]
  },
  {
   "cell_type": "markdown",
   "id": "0087f29d",
   "metadata": {},
   "source": [
    "### Extract skills"
   ]
  },
  {
   "cell_type": "code",
   "execution_count": 15,
   "id": "32ea5885",
   "metadata": {},
   "outputs": [
    {
     "name": "stdout",
     "output_type": "stream",
     "text": [
      "Technische Skills:\n",
      "  - Beratung in Versicherungsfragen\n",
      "  - Offerterstellung\n",
      "  - Kundenakquise\n",
      "  - Pflege des Kundenstammes\n",
      "  - Ausbildung in der Automobilbranche\n",
      "  - kaufmännische Weiterbildung\n",
      "  - kaufmännische Ausbildung im technischen Bereich\n",
      "\n",
      "Transversale Skills:\n",
      "  - Kundenberatung\n",
      "  - Verkaufsfähigkeiten\n",
      "  - professionalles Auftreten\n",
      "  - Kommunikationsfähigkeit\n",
      "  - Charisma\n",
      "  - Begeisterungsfähigkeit\n",
      "\n",
      "CPU times: user 171 ms, sys: 23.3 ms, total: 195 ms\n",
      "Wall time: 5.91 s\n"
     ]
    }
   ],
   "source": [
    "%%time\n",
    "\n",
    "# Load .env file\n",
    "load_dotenv()\n",
    "\n",
    "# Initialize OpenAI client using key from .env\n",
    "client = OpenAI(api_key=os.getenv(\"OPENAI_API_KEY\"))\n",
    "\n",
    "# Prompt\n",
    "prompt = (\n",
    "    \"Extrahiere technische und transversale Skills aus dem folgenden Text \"\n",
    "    \"(kommagetrennt pro Zeile):\\n\\n\" + text\n",
    ")\n",
    "\n",
    "# Response\n",
    "response = client.chat.completions.create(\n",
    "    model=\"gpt-4\",\n",
    "    messages=[{\"role\": \"user\", \"content\": prompt}],\n",
    "    temperature=1,\n",
    ")\n",
    "\n",
    "# Extract and print the result\n",
    "def print_skills_formatted(text):\n",
    "    for section in text.strip().split(\"\\n\"):\n",
    "        if \":\" in section:\n",
    "            category, skills = section.split(\":\", 1)\n",
    "            skill_list = [s.strip().strip(\".\") for s in skills.split(\",\") if s.strip()]\n",
    "            print(f\"{category.strip()}:\")\n",
    "            for skill in skill_list:\n",
    "                print(f\"  - {skill}\")\n",
    "            print()\n",
    "\n",
    "# Correct usage\n",
    "response_text = response.choices[0].message.content\n",
    "print_skills_formatted(response_text)\n"
   ]
  },
  {
   "cell_type": "markdown",
   "id": "3cdb1ecf",
   "metadata": {},
   "source": [
    "## Semantic search via sentence transformer based on ESCO - skills"
   ]
  },
  {
   "cell_type": "markdown",
   "id": "59366a32",
   "metadata": {},
   "source": [
    "### Select test case: Fachverkäufer für Kraftfahrzeuge"
   ]
  },
  {
   "cell_type": "code",
   "execution_count": 16,
   "id": "cadcd916",
   "metadata": {},
   "outputs": [
    {
     "data": {
      "text/plain": [
       "'<p>Zu Ihrem Aufgabengebiet gehen die Planung und Umsetzung von anspruchsvollen und komplexen Infrastrukturprojekten sowie von Angebots- und Verkaufsprojekten. Sie koordinieren alle Aktiviten im Rahmen dieser Projekte und stellen zusammen mit dem [REDACTED COMPANY] respektive Selling-Team den erfolgreichen Abschluss in qualitativer und zeitlicher Hinsicht sicher. Durch eine gute Ressourcen- und Budgetplanung sowie ein kontinuierliches Projekt-Controlling erfreuen Sie die Projektsponsoren.</p><p>In Angebots- und Verkaufsprojekten koordinieren Sie Selling-Teams von der Angebotserstellung bis zum Vertragsabschluss. Zusammen mit dem verantwortlichen Sales Manager erarbeiten Sie mit Unterstzung der [REDACTED COMPANY], den Head of Units sowie externen Partnern die Kundenlung und erstellen Angebots- und Vertragsdokumente.</p><p>F diese herausfordernde Tigkeit verfen Sie er einen Hochschulabschluss in Informatik (Uni, [REDACTED COMPANY], [REDACTED COMPANY]) und knen fundierte Erfahrungen in der Leitung von komplexen Infrastrukturprojekten sowie der Verkaufsunterstzung vorweisen. Der Vielfalt dieser Tigkeit begegnen Sie mit technischem und konzeptionellem Wissen, vernetztem Denken, pfiffigen Ideen, Erfahrung in der Projektleitung sowie gutem organisatorischem Geschick.</p><p>Stichworte wie Integrit, Engagement und Professionalit mit permanenter Weiterbildung kennzeichnen unsere Kultur. Offene Kommunikation und Teamgeist bilden die Basis unserer Zusammenarbeit. Die Bedag bietet Ihnen als Arbeitgeber modernste Arbeitsmittel, ein fortschrittliches Arbeitszeitmodell und gute Sozialleistungen.</p><p>[REDACTED NAME]? Dann sollten Sie mit uns Kontakt aufnehmen. Wir freuen uns auf Ihre Bewerbung an untenstehende Adresse. F weitere Auskfte steht Ihnen [REDACTED NAME], Personal Management (Telefon [REDACTED PHONE]), gerne zur Verfung.</p>'"
      ]
     },
     "execution_count": 16,
     "metadata": {},
     "output_type": "execute_result"
    }
   ],
   "source": [
    "anonymize_text(df_sub['text'][1])"
   ]
  },
  {
   "cell_type": "markdown",
   "id": "e783e8c6",
   "metadata": {},
   "source": [
    "### Read ESCO data"
   ]
  },
  {
   "cell_type": "code",
   "execution_count": 17,
   "id": "f5682566",
   "metadata": {},
   "outputs": [
    {
     "ename": "FileNotFoundError",
     "evalue": "[Errno 2] No such file or directory: './data/skills_de.csv'",
     "output_type": "error",
     "traceback": [
      "\u001b[31m---------------------------------------------------------------------------\u001b[39m",
      "\u001b[31mFileNotFoundError\u001b[39m                         Traceback (most recent call last)",
      "\u001b[36mCell\u001b[39m\u001b[36m \u001b[39m\u001b[32mIn[17]\u001b[39m\u001b[32m, line 2\u001b[39m\n\u001b[32m      1\u001b[39m \u001b[38;5;66;03m# Read ESCO data\u001b[39;00m\n\u001b[32m----> \u001b[39m\u001b[32m2\u001b[39m df_ski = \u001b[43mpd\u001b[49m\u001b[43m.\u001b[49m\u001b[43mread_csv\u001b[49m\u001b[43m(\u001b[49m\u001b[33;43m'\u001b[39;49m\u001b[33;43m./data/skills_de.csv\u001b[39;49m\u001b[33;43m'\u001b[39;49m\u001b[43m)\u001b[49m\n\u001b[32m      3\u001b[39m df_occ = pd.read_csv(\u001b[33m'\u001b[39m\u001b[33m./data/occupations_de.csv\u001b[39m\u001b[33m'\u001b[39m)\n\u001b[32m      4\u001b[39m df_osr = pd.read_csv(\u001b[33m'\u001b[39m\u001b[33m./data/occupationSkillRelations_de.csv\u001b[39m\u001b[33m'\u001b[39m)\n",
      "\u001b[36mFile \u001b[39m\u001b[32m~/anaconda3/envs/esi-001/lib/python3.11/site-packages/pandas/io/parsers/readers.py:1026\u001b[39m, in \u001b[36mread_csv\u001b[39m\u001b[34m(filepath_or_buffer, sep, delimiter, header, names, index_col, usecols, dtype, engine, converters, true_values, false_values, skipinitialspace, skiprows, skipfooter, nrows, na_values, keep_default_na, na_filter, verbose, skip_blank_lines, parse_dates, infer_datetime_format, keep_date_col, date_parser, date_format, dayfirst, cache_dates, iterator, chunksize, compression, thousands, decimal, lineterminator, quotechar, quoting, doublequote, escapechar, comment, encoding, encoding_errors, dialect, on_bad_lines, delim_whitespace, low_memory, memory_map, float_precision, storage_options, dtype_backend)\u001b[39m\n\u001b[32m   1013\u001b[39m kwds_defaults = _refine_defaults_read(\n\u001b[32m   1014\u001b[39m     dialect,\n\u001b[32m   1015\u001b[39m     delimiter,\n\u001b[32m   (...)\u001b[39m\u001b[32m   1022\u001b[39m     dtype_backend=dtype_backend,\n\u001b[32m   1023\u001b[39m )\n\u001b[32m   1024\u001b[39m kwds.update(kwds_defaults)\n\u001b[32m-> \u001b[39m\u001b[32m1026\u001b[39m \u001b[38;5;28;01mreturn\u001b[39;00m \u001b[43m_read\u001b[49m\u001b[43m(\u001b[49m\u001b[43mfilepath_or_buffer\u001b[49m\u001b[43m,\u001b[49m\u001b[43m \u001b[49m\u001b[43mkwds\u001b[49m\u001b[43m)\u001b[49m\n",
      "\u001b[36mFile \u001b[39m\u001b[32m~/anaconda3/envs/esi-001/lib/python3.11/site-packages/pandas/io/parsers/readers.py:620\u001b[39m, in \u001b[36m_read\u001b[39m\u001b[34m(filepath_or_buffer, kwds)\u001b[39m\n\u001b[32m    617\u001b[39m _validate_names(kwds.get(\u001b[33m\"\u001b[39m\u001b[33mnames\u001b[39m\u001b[33m\"\u001b[39m, \u001b[38;5;28;01mNone\u001b[39;00m))\n\u001b[32m    619\u001b[39m \u001b[38;5;66;03m# Create the parser.\u001b[39;00m\n\u001b[32m--> \u001b[39m\u001b[32m620\u001b[39m parser = \u001b[43mTextFileReader\u001b[49m\u001b[43m(\u001b[49m\u001b[43mfilepath_or_buffer\u001b[49m\u001b[43m,\u001b[49m\u001b[43m \u001b[49m\u001b[43m*\u001b[49m\u001b[43m*\u001b[49m\u001b[43mkwds\u001b[49m\u001b[43m)\u001b[49m\n\u001b[32m    622\u001b[39m \u001b[38;5;28;01mif\u001b[39;00m chunksize \u001b[38;5;129;01mor\u001b[39;00m iterator:\n\u001b[32m    623\u001b[39m     \u001b[38;5;28;01mreturn\u001b[39;00m parser\n",
      "\u001b[36mFile \u001b[39m\u001b[32m~/anaconda3/envs/esi-001/lib/python3.11/site-packages/pandas/io/parsers/readers.py:1620\u001b[39m, in \u001b[36mTextFileReader.__init__\u001b[39m\u001b[34m(self, f, engine, **kwds)\u001b[39m\n\u001b[32m   1617\u001b[39m     \u001b[38;5;28mself\u001b[39m.options[\u001b[33m\"\u001b[39m\u001b[33mhas_index_names\u001b[39m\u001b[33m\"\u001b[39m] = kwds[\u001b[33m\"\u001b[39m\u001b[33mhas_index_names\u001b[39m\u001b[33m\"\u001b[39m]\n\u001b[32m   1619\u001b[39m \u001b[38;5;28mself\u001b[39m.handles: IOHandles | \u001b[38;5;28;01mNone\u001b[39;00m = \u001b[38;5;28;01mNone\u001b[39;00m\n\u001b[32m-> \u001b[39m\u001b[32m1620\u001b[39m \u001b[38;5;28mself\u001b[39m._engine = \u001b[38;5;28;43mself\u001b[39;49m\u001b[43m.\u001b[49m\u001b[43m_make_engine\u001b[49m\u001b[43m(\u001b[49m\u001b[43mf\u001b[49m\u001b[43m,\u001b[49m\u001b[43m \u001b[49m\u001b[38;5;28;43mself\u001b[39;49m\u001b[43m.\u001b[49m\u001b[43mengine\u001b[49m\u001b[43m)\u001b[49m\n",
      "\u001b[36mFile \u001b[39m\u001b[32m~/anaconda3/envs/esi-001/lib/python3.11/site-packages/pandas/io/parsers/readers.py:1880\u001b[39m, in \u001b[36mTextFileReader._make_engine\u001b[39m\u001b[34m(self, f, engine)\u001b[39m\n\u001b[32m   1878\u001b[39m     \u001b[38;5;28;01mif\u001b[39;00m \u001b[33m\"\u001b[39m\u001b[33mb\u001b[39m\u001b[33m\"\u001b[39m \u001b[38;5;129;01mnot\u001b[39;00m \u001b[38;5;129;01min\u001b[39;00m mode:\n\u001b[32m   1879\u001b[39m         mode += \u001b[33m\"\u001b[39m\u001b[33mb\u001b[39m\u001b[33m\"\u001b[39m\n\u001b[32m-> \u001b[39m\u001b[32m1880\u001b[39m \u001b[38;5;28mself\u001b[39m.handles = \u001b[43mget_handle\u001b[49m\u001b[43m(\u001b[49m\n\u001b[32m   1881\u001b[39m \u001b[43m    \u001b[49m\u001b[43mf\u001b[49m\u001b[43m,\u001b[49m\n\u001b[32m   1882\u001b[39m \u001b[43m    \u001b[49m\u001b[43mmode\u001b[49m\u001b[43m,\u001b[49m\n\u001b[32m   1883\u001b[39m \u001b[43m    \u001b[49m\u001b[43mencoding\u001b[49m\u001b[43m=\u001b[49m\u001b[38;5;28;43mself\u001b[39;49m\u001b[43m.\u001b[49m\u001b[43moptions\u001b[49m\u001b[43m.\u001b[49m\u001b[43mget\u001b[49m\u001b[43m(\u001b[49m\u001b[33;43m\"\u001b[39;49m\u001b[33;43mencoding\u001b[39;49m\u001b[33;43m\"\u001b[39;49m\u001b[43m,\u001b[49m\u001b[43m \u001b[49m\u001b[38;5;28;43;01mNone\u001b[39;49;00m\u001b[43m)\u001b[49m\u001b[43m,\u001b[49m\n\u001b[32m   1884\u001b[39m \u001b[43m    \u001b[49m\u001b[43mcompression\u001b[49m\u001b[43m=\u001b[49m\u001b[38;5;28;43mself\u001b[39;49m\u001b[43m.\u001b[49m\u001b[43moptions\u001b[49m\u001b[43m.\u001b[49m\u001b[43mget\u001b[49m\u001b[43m(\u001b[49m\u001b[33;43m\"\u001b[39;49m\u001b[33;43mcompression\u001b[39;49m\u001b[33;43m\"\u001b[39;49m\u001b[43m,\u001b[49m\u001b[43m \u001b[49m\u001b[38;5;28;43;01mNone\u001b[39;49;00m\u001b[43m)\u001b[49m\u001b[43m,\u001b[49m\n\u001b[32m   1885\u001b[39m \u001b[43m    \u001b[49m\u001b[43mmemory_map\u001b[49m\u001b[43m=\u001b[49m\u001b[38;5;28;43mself\u001b[39;49m\u001b[43m.\u001b[49m\u001b[43moptions\u001b[49m\u001b[43m.\u001b[49m\u001b[43mget\u001b[49m\u001b[43m(\u001b[49m\u001b[33;43m\"\u001b[39;49m\u001b[33;43mmemory_map\u001b[39;49m\u001b[33;43m\"\u001b[39;49m\u001b[43m,\u001b[49m\u001b[43m \u001b[49m\u001b[38;5;28;43;01mFalse\u001b[39;49;00m\u001b[43m)\u001b[49m\u001b[43m,\u001b[49m\n\u001b[32m   1886\u001b[39m \u001b[43m    \u001b[49m\u001b[43mis_text\u001b[49m\u001b[43m=\u001b[49m\u001b[43mis_text\u001b[49m\u001b[43m,\u001b[49m\n\u001b[32m   1887\u001b[39m \u001b[43m    \u001b[49m\u001b[43merrors\u001b[49m\u001b[43m=\u001b[49m\u001b[38;5;28;43mself\u001b[39;49m\u001b[43m.\u001b[49m\u001b[43moptions\u001b[49m\u001b[43m.\u001b[49m\u001b[43mget\u001b[49m\u001b[43m(\u001b[49m\u001b[33;43m\"\u001b[39;49m\u001b[33;43mencoding_errors\u001b[39;49m\u001b[33;43m\"\u001b[39;49m\u001b[43m,\u001b[49m\u001b[43m \u001b[49m\u001b[33;43m\"\u001b[39;49m\u001b[33;43mstrict\u001b[39;49m\u001b[33;43m\"\u001b[39;49m\u001b[43m)\u001b[49m\u001b[43m,\u001b[49m\n\u001b[32m   1888\u001b[39m \u001b[43m    \u001b[49m\u001b[43mstorage_options\u001b[49m\u001b[43m=\u001b[49m\u001b[38;5;28;43mself\u001b[39;49m\u001b[43m.\u001b[49m\u001b[43moptions\u001b[49m\u001b[43m.\u001b[49m\u001b[43mget\u001b[49m\u001b[43m(\u001b[49m\u001b[33;43m\"\u001b[39;49m\u001b[33;43mstorage_options\u001b[39;49m\u001b[33;43m\"\u001b[39;49m\u001b[43m,\u001b[49m\u001b[43m \u001b[49m\u001b[38;5;28;43;01mNone\u001b[39;49;00m\u001b[43m)\u001b[49m\u001b[43m,\u001b[49m\n\u001b[32m   1889\u001b[39m \u001b[43m\u001b[49m\u001b[43m)\u001b[49m\n\u001b[32m   1890\u001b[39m \u001b[38;5;28;01massert\u001b[39;00m \u001b[38;5;28mself\u001b[39m.handles \u001b[38;5;129;01mis\u001b[39;00m \u001b[38;5;129;01mnot\u001b[39;00m \u001b[38;5;28;01mNone\u001b[39;00m\n\u001b[32m   1891\u001b[39m f = \u001b[38;5;28mself\u001b[39m.handles.handle\n",
      "\u001b[36mFile \u001b[39m\u001b[32m~/anaconda3/envs/esi-001/lib/python3.11/site-packages/pandas/io/common.py:873\u001b[39m, in \u001b[36mget_handle\u001b[39m\u001b[34m(path_or_buf, mode, encoding, compression, memory_map, is_text, errors, storage_options)\u001b[39m\n\u001b[32m    868\u001b[39m \u001b[38;5;28;01melif\u001b[39;00m \u001b[38;5;28misinstance\u001b[39m(handle, \u001b[38;5;28mstr\u001b[39m):\n\u001b[32m    869\u001b[39m     \u001b[38;5;66;03m# Check whether the filename is to be opened in binary mode.\u001b[39;00m\n\u001b[32m    870\u001b[39m     \u001b[38;5;66;03m# Binary mode does not support 'encoding' and 'newline'.\u001b[39;00m\n\u001b[32m    871\u001b[39m     \u001b[38;5;28;01mif\u001b[39;00m ioargs.encoding \u001b[38;5;129;01mand\u001b[39;00m \u001b[33m\"\u001b[39m\u001b[33mb\u001b[39m\u001b[33m\"\u001b[39m \u001b[38;5;129;01mnot\u001b[39;00m \u001b[38;5;129;01min\u001b[39;00m ioargs.mode:\n\u001b[32m    872\u001b[39m         \u001b[38;5;66;03m# Encoding\u001b[39;00m\n\u001b[32m--> \u001b[39m\u001b[32m873\u001b[39m         handle = \u001b[38;5;28;43mopen\u001b[39;49m\u001b[43m(\u001b[49m\n\u001b[32m    874\u001b[39m \u001b[43m            \u001b[49m\u001b[43mhandle\u001b[49m\u001b[43m,\u001b[49m\n\u001b[32m    875\u001b[39m \u001b[43m            \u001b[49m\u001b[43mioargs\u001b[49m\u001b[43m.\u001b[49m\u001b[43mmode\u001b[49m\u001b[43m,\u001b[49m\n\u001b[32m    876\u001b[39m \u001b[43m            \u001b[49m\u001b[43mencoding\u001b[49m\u001b[43m=\u001b[49m\u001b[43mioargs\u001b[49m\u001b[43m.\u001b[49m\u001b[43mencoding\u001b[49m\u001b[43m,\u001b[49m\n\u001b[32m    877\u001b[39m \u001b[43m            \u001b[49m\u001b[43merrors\u001b[49m\u001b[43m=\u001b[49m\u001b[43merrors\u001b[49m\u001b[43m,\u001b[49m\n\u001b[32m    878\u001b[39m \u001b[43m            \u001b[49m\u001b[43mnewline\u001b[49m\u001b[43m=\u001b[49m\u001b[33;43m\"\u001b[39;49m\u001b[33;43m\"\u001b[39;49m\u001b[43m,\u001b[49m\n\u001b[32m    879\u001b[39m \u001b[43m        \u001b[49m\u001b[43m)\u001b[49m\n\u001b[32m    880\u001b[39m     \u001b[38;5;28;01melse\u001b[39;00m:\n\u001b[32m    881\u001b[39m         \u001b[38;5;66;03m# Binary mode\u001b[39;00m\n\u001b[32m    882\u001b[39m         handle = \u001b[38;5;28mopen\u001b[39m(handle, ioargs.mode)\n",
      "\u001b[31mFileNotFoundError\u001b[39m: [Errno 2] No such file or directory: './data/skills_de.csv'"
     ]
    }
   ],
   "source": [
    "# Read ESCO data\n",
    "df_ski = pd.read_csv('./data/skills_de.csv')\n",
    "df_occ = pd.read_csv('./data/occupations_de.csv')\n",
    "df_osr = pd.read_csv('./data/occupationSkillRelations_de.csv')\n",
    "\n",
    "# Select occupation-skill-relation (Fachverkäufer für Kraftfahrzeuge)\n",
    "occ_uri = 'http://data.europa.eu/esco/occupation/6a163fef-dee8-4583-82b0-13b76d8a27b2'\n",
    "df_osr_sub = df_osr.loc[df_osr['occupationUri'] == occ_uri]\n",
    "\n",
    "# Select skills data\n",
    "columns = ['conceptUri', 'skillType', 'reuseLevel', 'preferredLabel']\n",
    "df_skills = df_ski.loc[df_ski['conceptUri'].isin(df_osr_sub['skillUri'])][columns]\n",
    "\n",
    "# Select skills\n",
    "skills = df_skills['preferredLabel']\n",
    "\n",
    "# Show number of skills\n",
    "label = df_occ.loc[df_occ['conceptUri'] == occ_uri, 'preferredLabel'].values[0]\n",
    "print(f\"Number of Skills for '{label}': {df_skills.shape[0]}\")\n",
    "\n",
    "# Show skillType and reuseLevel in crosstab\n",
    "crosstab = pd.crosstab(df_skills['reuseLevel'], df_skills['skillType'])\n",
    "print(\"\\nSkill levels:\")\n",
    "print(crosstab)\n",
    "\n",
    "# Show skills\n",
    "df_skills"
   ]
  },
  {
   "cell_type": "markdown",
   "id": "96f869c1",
   "metadata": {},
   "source": [
    "### Create embeddings and calculate similarity"
   ]
  },
  {
   "cell_type": "code",
   "execution_count": null,
   "id": "c9bb7ca2",
   "metadata": {},
   "outputs": [],
   "source": [
    "%%time\n",
    "\n",
    "# Load model\n",
    "model = SentenceTransformer('all-MiniLM-L6-v2')\n",
    "\n",
    "# Select text from job ad\n",
    "text = df_sub['text'][1]\n",
    "\n",
    "# Encode text and skills\n",
    "text_embedding = model.encode(text, convert_to_tensor=True)\n",
    "skill_embeddings = model.encode(skills.tolist(), convert_to_tensor=True)\n",
    "\n",
    "# Compute cosine similarity\n",
    "cosine_scores = util.cos_sim(text_embedding, skill_embeddings)[0]\n",
    "\n",
    "# Get top 10 scores and indices\n",
    "top_indices = cosine_scores.argsort(descending=True)[:10]\n",
    "\n",
    "# Print top 10 matching skills\n",
    "for idx in top_indices:\n",
    "    i = idx.item()\n",
    "    print(f\"{skills.iloc[i]}: {cosine_scores[i]:.2f}\")\n",
    "\n",
    "print(\"\\n\")"
   ]
  },
  {
   "cell_type": "markdown",
   "id": "8801889f",
   "metadata": {},
   "source": [
    "## Extract named entities using a pretrained NER model"
   ]
  },
  {
   "cell_type": "code",
   "execution_count": null,
   "id": "d6c12c62",
   "metadata": {},
   "outputs": [],
   "source": [
    "%%time\n",
    "\n",
    "# Load a German NER pipeline with a multilingual or German model\n",
    "ner = pipeline(\"ner\", \n",
    "               model=\"xlm-roberta-large-finetuned-conll03-german\", \n",
    "               aggregation_strategy=\"simple\")\n",
    "\n",
    "text = df_sub['text'][10]\n",
    "\n",
    "results = ner(text)\n",
    "\n",
    "for r in results:\n",
    "    word = r.get('word', '<no word>')\n",
    "    entity_group = r.get('entity_group', '<no entity_group>')\n",
    "    score = r.get('score', 0.0)\n",
    "    print(f\"{word} - {entity_group} ({score:.2f})\")\n",
    "\n",
    "print(\"\\n\")"
   ]
  },
  {
   "cell_type": "markdown",
   "id": "ae5303c0",
   "metadata": {},
   "source": [
    "## Unsupervised keyphrase extraction with keybert"
   ]
  },
  {
   "cell_type": "code",
   "execution_count": null,
   "id": "88f283d3",
   "metadata": {},
   "outputs": [],
   "source": [
    "%%time\n",
    "\n",
    "# Load model\n",
    "kw_model = KeyBERT(model='paraphrase-multilingual-MiniLM-L12-v2')\n",
    "\n",
    "text = df_sub['text'][1]\n",
    "\n",
    "keywords = kw_model.extract_keywords(text, \n",
    "                                    keyphrase_ngram_range=(1, 4), \n",
    "                                    stop_words=None,\n",
    "                                    top_n=15, \n",
    "                                    use_maxsum=True)\n",
    "\n",
    "# Sort keywords by score descending\n",
    "keywords_sorted = sorted(keywords, key=lambda x: x[1], reverse=True)\n",
    "\n",
    "for keyword, score in keywords_sorted:\n",
    "    print(f\"{keyword} ({score:.4f})\")\n",
    "\n",
    "print(\"\\n\")\n"
   ]
  },
  {
   "cell_type": "markdown",
   "id": "3696b2bf",
   "metadata": {},
   "source": [
    "## Profession matching: JobCloud profession list <-> profession names from job ads\n",
    "\n",
    "The goal here is to match professions from different sources  \n",
    "- Skills belong to a profession in the job ad inventory  \n",
    "- If these skills are extracted, they must be matched to the professions in the professions list  \n",
    "- JobClouds 'official' profession list has currently 2331 entries (de, en, fr)  \n",
    "- Alternative profession lists are ESCO (3039 professions) or www.berufsberatung.ch (1876 professions)  "
   ]
  },
  {
   "cell_type": "markdown",
   "id": "b55c7fb6",
   "metadata": {},
   "source": [
    "## Normalize the text"
   ]
  },
  {
   "cell_type": "code",
   "execution_count": null,
   "id": "502233be",
   "metadata": {},
   "outputs": [],
   "source": [
    "# Function to normalize the text\n",
    "def normalize(text):\n",
    "    text = text.lower()\n",
    "    text = re.sub(r\"\\s+\", \" \", text).strip()\n",
    "    return text"
   ]
  },
  {
   "cell_type": "markdown",
   "id": "56374073",
   "metadata": {},
   "source": [
    "## Create semantic embeddings"
   ]
  },
  {
   "cell_type": "code",
   "execution_count": null,
   "id": "34e7e205",
   "metadata": {},
   "outputs": [],
   "source": [
    "# Define model\n",
    "model = SentenceTransformer(\"distiluse-base-multilingual-cased-v1\")\n",
    "\n",
    "# Normalize data\n",
    "occ_labels = df_occjc['DE'].apply(normalize).tolist()\n",
    "professions = df['profession'].apply(normalize).tolist()\n",
    "\n",
    "# Create embeddings\n",
    "occ_embeddings = model.encode(occ_labels, convert_to_tensor=True)\n",
    "prof_embeddings = model.encode(professions, convert_to_tensor=True)"
   ]
  },
  {
   "cell_type": "markdown",
   "id": "f9358ae7",
   "metadata": {},
   "source": [
    "## Calculate similarities"
   ]
  },
  {
   "cell_type": "code",
   "execution_count": null,
   "id": "b1bdd9e4",
   "metadata": {},
   "outputs": [],
   "source": [
    "# Calculate similarities\n",
    "similarities = util.cos_sim(prof_embeddings, occ_embeddings)\n",
    "\n",
    "# Matchings\n",
    "top_indices = torch.argmax(similarities, dim=1).tolist()\n",
    "top_scores = torch.max(similarities, dim=1).values.tolist()\n",
    "\n",
    "# Write mapping to data frame\n",
    "df['matched_occupation'] = [df_occjc['DE'].iloc[i] for i in top_indices]\n",
    "df['similarity'] = top_scores\n",
    "\n",
    "# Show result\n",
    "df[['profession', 'matched_occupation', 'similarity']][:20]"
   ]
  },
  {
   "cell_type": "markdown",
   "id": "6d797709",
   "metadata": {},
   "source": [
    "## Match professions"
   ]
  },
  {
   "cell_type": "code",
   "execution_count": null,
   "id": "e056b36b",
   "metadata": {},
   "outputs": [],
   "source": [
    "# Number of top matches to extract\n",
    "top_n = 5\n",
    "\n",
    "# Compute top_n most similar occupations\n",
    "top_results = torch.topk(similarities, k=top_n, dim=1)\n",
    "\n",
    "# Convert indices and similarity scores to lists\n",
    "indices = top_results.indices.tolist()\n",
    "scores = top_results.values.tolist()\n",
    "\n",
    "# Map each profession to its top_n most similar occupations\n",
    "df['top_matches'] = [\n",
    "    [(df_occjc['DE'].iloc[idx], round(score, 2)) for idx, score in zip(row_idx, row_scores)]\n",
    "    for row_idx, row_scores in zip(indices, scores)]\n",
    "\n",
    "# Display the top matches\n",
    "for _, row in df[['profession', 'top_matches']].head(100).iterrows():\n",
    "    print(f\"Profession: {row['profession']}\")\n",
    "    print(\"Top Matches:\")\n",
    "    for label, score in row['top_matches']:\n",
    "        print(f\"  - {label} ({score})\")\n",
    "    print(\"-\" * 40)"
   ]
  }
 ],
 "metadata": {
  "kernelspec": {
   "display_name": "conda_esi-001",
   "language": "python",
   "name": "conda_esi-001"
  },
  "language_info": {
   "codemirror_mode": {
    "name": "ipython",
    "version": 3
   },
   "file_extension": ".py",
   "mimetype": "text/x-python",
   "name": "python",
   "nbconvert_exporter": "python",
   "pygments_lexer": "ipython3",
   "version": "3.11.13"
  },
  "vscode": {
   "interpreter": {
    "hash": "c99006d231696aa92287ce080d623c22149bffd13a89b4177170d8eaac3558b6"
   }
  }
 },
 "nbformat": 4,
 "nbformat_minor": 5
}
