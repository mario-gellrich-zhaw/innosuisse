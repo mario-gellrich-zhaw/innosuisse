{
 "cells": [
  {
   "cell_type": "markdown",
   "metadata": {},
   "source": [
    "# Exploring the BI Database"
   ]
  },
  {
   "cell_type": "markdown",
   "metadata": {},
   "source": [
    "## Libraries and settings"
   ]
  },
  {
   "cell_type": "code",
   "execution_count": 1,
   "metadata": {},
   "outputs": [
    {
     "name": "stdout",
     "output_type": "stream",
     "text": [
      "/home/ec2-user/SageMaker/skill_framework/notebooks\n"
     ]
    }
   ],
   "source": [
    "# Libraries\n",
    "import os\n",
    "import json\n",
    "import boto3\n",
    "import sqlite3\n",
    "import tempfile\n",
    "import pandas as pd\n",
    "from pprint import pprint\n",
    "\n",
    "# Settings\n",
    "import warnings\n",
    "warnings.filterwarnings(\"ignore\")\n",
    "\n",
    "# Display current working directory\n",
    "print(os.getcwd())\n"
   ]
  },
  {
   "cell_type": "markdown",
   "metadata": {},
   "source": [
    "## Read BI-DB"
   ]
  },
  {
   "cell_type": "code",
   "execution_count": 2,
   "metadata": {},
   "outputs": [],
   "source": [
    "# S3 bucket and object key\n",
    "bucket_name = 'bi-chatbot'\n",
    "object_key = 'bi_chatbot_db.sqlite'\n",
    "\n",
    "# Create a persistent temp file\n",
    "temp_file = tempfile.NamedTemporaryFile(suffix='.sqlite', delete=False)\n",
    "db_path = temp_file.name\n",
    "\n",
    "# Download the SQLite DB to the temp file\n",
    "s3_client = boto3.client('s3')\n",
    "s3_client.download_fileobj(bucket_name, object_key, temp_file)\n",
    "temp_file.flush()\n",
    "\n",
    "# The temp file can be reused\n",
    "db_path = temp_file.name\n",
    "\n",
    "# Example function to query data\n",
    "def query_table(sql):\n",
    "    conn = sqlite3.connect(db_path)\n",
    "    cursor = conn.cursor()\n",
    "    cursor.execute(sql)\n",
    "    rows = cursor.fetchall()\n",
    "    column_names = [description[0] for description in cursor.description]\n",
    "    conn.close()\n",
    "    return column_names, rows"
   ]
  },
  {
   "cell_type": "markdown",
   "metadata": {},
   "source": [
    "## Explore data base and tables"
   ]
  },
  {
   "cell_type": "code",
   "execution_count": 3,
   "metadata": {},
   "outputs": [
    {
     "name": "stdout",
     "output_type": "stream",
     "text": [
      "Columns: ['name']\n",
      "('d_ad_bridge',)\n",
      "('d_ad_master_category',)\n",
      "('d_ad_master_industry',)\n",
      "('d_ad_master_location',)\n",
      "('d_ad_master_product',)\n",
      "('d_ad_master_region',)\n",
      "('d_customer_blended',)\n",
      "('d_customer_master',)\n",
      "('inventory_list_ads',)\n",
      "('d_ad_master',)\n",
      "('tableau_workbooks',)\n",
      "('f_ad_applications',)\n",
      "('f_ad_hits',)\n",
      "('f_ad_impressions',)\n",
      "('f_ad_inventory',)\n",
      "('tableau_views',)\n",
      "('d_ad_master_category_new',)\n"
     ]
    }
   ],
   "source": [
    "# Connect\n",
    "conn = sqlite3.connect(db_path)\n",
    "\n",
    "# Query\n",
    "cols, data = query_table(\"SELECT name FROM sqlite_master WHERE type='table';\")\n",
    "print(\"Columns:\", cols)\n",
    "for row in data:\n",
    "    print(row)\n",
    "\n",
    "# Close connection\n",
    "conn.close()"
   ]
  },
  {
   "cell_type": "code",
   "execution_count": 4,
   "metadata": {},
   "outputs": [
    {
     "name": "stdout",
     "output_type": "stream",
     "text": [
      "Columns: ['ad_master_id', 'category_lvl0', 'category_lvl0_en', 'category_lvl0_fr', 'category_lvl1', 'category_lvl1_en', 'category_lvl1_fr', 'category_lvl2', 'category_lvl2_en', 'category_lvl2_fr', 'category_combo_id']\n",
      "(4251744954050589183, 'Technisch', 'Technical', 'Technique', 'Elektronik/Technik/Uhren', 'Electronics/Engineering/Watches', 'Electronique/Technique/Horlogerie', 'Servicetechnik', 'Technical Service', 'Service technique', 'bab9a3056f17b8a9ae46f2d601e32650')\n",
      "(7946217558270345567, 'Technisch', 'Technical', 'Technique', 'Maschinen-/Anlagenbau/Produktion', 'Machine/Plant Engin./Manufacturing', 'Machines/Installations/Production', 'Maschinenbau', 'Machine building/engineering', 'Construction de machines', 'd322f446f5514027fa5abfe9570a5fd4')\n",
      "(-6999421250853745265, 'Technisch', 'Technical', 'Technique', 'Bau/Architektur/Engineering', 'Construction/Architecture/Engineer', 'Constr./Architecture/Engineering', 'Elektro Planung/Montage', 'Electricity engineering/installation', 'Electricité Planification/Montage', '57a7e5655ff44a6a66701c2d62ef920c')\n",
      "(-798815255882000311, 'Dienstleistung', 'Service', 'Service', 'Verwaltung/Bildung/Soziales', 'Public admin./Education/Social', 'Administration/Formation/Social', 'Oeffentliche Verwaltung', 'Public administration', 'Administration publique', '1b1c55733a62be986c21521e7c9b0cec')\n",
      "(-7927935931378320188, 'Dienstleistung', 'Service', 'Service', 'Verwaltung/Bildung/Soziales', 'Public admin./Education/Social', 'Administration/Formation/Social', 'Sozial-/Jugendarbeit', 'Social/Youth Work', 'Educateur Spécialisé/Social', '05187599ab72ea63f12fb78832405d3d')\n"
     ]
    }
   ],
   "source": [
    "# Connect\n",
    "conn = sqlite3.connect(db_path)\n",
    "\n",
    "# Close connection\n",
    "conn.close()\n",
    "\n",
    "\n",
    "# Query\n",
    "cols, data = query_table(\"SELECT * FROM d_ad_master_category LIMIT 5;\")\n",
    "print(\"Columns:\", cols)\n",
    "for row in data:\n",
    "    print(row)\n"
   ]
  },
  {
   "cell_type": "code",
   "execution_count": 5,
   "metadata": {},
   "outputs": [
    {
     "name": "stdout",
     "output_type": "stream",
     "text": [
      "Columns: ['ad_master_id', 'internal_industry_name_de', 'internal_industry_name_en', 'internal_industry_name_fr', 'industry_combo_id']\n",
      "(-8549748988227557628, 'Gesundheits-/Sozialwesen', 'Healthcare / Social services', 'Santé/Services sociaux', '58c777f3bc5f862a61c14af4527d7eed')\n",
      "(7739751493053261007, 'Informatik / Kommunikation', 'Information and Communication Technology', 'Informatique/Communication', 'c5b57208b3d4f4a19279a383cbc6686b')\n",
      "(-3626862292465542202, 'Detail- / Einzel- / Grosshandel', 'Retail / Wholesale', 'Commerce de détail/en gros', '081785e94b93986471d11bea2d12c98c')\n",
      "(6471540023791374447, 'Gesundheits-/Sozialwesen', 'Healthcare / Social services', 'Santé/Services sociaux', '58c777f3bc5f862a61c14af4527d7eed')\n",
      "(6745276525820905570, 'Gewerbe/Handwerk allgemein', 'Industry / Artisan', 'Industrie/Artisanat', '8d501c69e653a43c6162da674946d4e6')\n"
     ]
    }
   ],
   "source": [
    "# Connect\n",
    "conn = sqlite3.connect(db_path)\n",
    "\n",
    "# Close connection\n",
    "conn.close()\n",
    "\n",
    "# Query\n",
    "cols, data = query_table(\"SELECT * FROM d_ad_master_industry LIMIT 5;\")\n",
    "print(\"Columns:\", cols)\n",
    "for row in data:\n",
    "    print(row)"
   ]
  },
  {
   "cell_type": "code",
   "execution_count": 6,
   "metadata": {},
   "outputs": [
    {
     "name": "stdout",
     "output_type": "stream",
     "text": [
      "Columns: ['ad_master_id', 'location_region_unified', 'location_region_unified_lvl2', 'location_region_unified_lvl1', 'location_region_unified_lvl0', 'location_source']\n",
      "(-9212614240941186264, 'Region Fribourg', 'Region Fribourg', 'Region Fribourg', 'Westschweiz', 'datapool')\n",
      "(-9211731094780524287, 'Region Basel', 'Region Basel', 'Region Basel', 'Deutschschweiz', 'datapool')\n",
      "(-9216217531753409824, 'Region Fribourg', 'Region Fribourg', 'Region Fribourg', 'Westschweiz', 'datapool')\n",
      "(-9214846876227350631, 'Region Waadt / Unterwallis', 'Region Waadt / Unterwallis', 'Region Waadt / Unterwallis', 'Westschweiz', 'datapool')\n",
      "(-9209952971377414082, 'Stadt Zürich / Zürichsee', 'Stadt Zürich / Zürichsee', 'Region Zürich / Schaffhausen', 'Deutschschweiz', 'datapool')\n"
     ]
    }
   ],
   "source": [
    "# Connect\n",
    "conn = sqlite3.connect(db_path)\n",
    "\n",
    "# Close connection\n",
    "conn.close()\n",
    "\n",
    "# Query\n",
    "cols, data = query_table(\"SELECT * FROM d_ad_master_location LIMIT 5;\")\n",
    "print(\"Columns:\", cols)\n",
    "for row in data:\n",
    "    print(row)"
   ]
  },
  {
   "cell_type": "code",
   "execution_count": 7,
   "metadata": {},
   "outputs": [
    {
     "name": "stdout",
     "output_type": "stream",
     "text": [
      "Columns: ['product_sid', 'product_unified', 'product_unified_lvl2', 'product_unified_lvl1', 'product_unified_lvl0', 'product_unified_overall_lvl1', 'product_unified_overall_lvl0', 'product_unified_reach', 'product_unified_type', 'product_combo', 'option_sid']\n",
      "(1030, 'mkpv2 - jobscout24.ch Advanced', 'JobScout24 Advanced', 'Advanced', 'Paid', 'Advanced', 'Paid', 'Advanced', 'Standalone', 'js24 - Jobcloud Marketplace,mkpv2 - jobs.ch Advanced,mkpv2 - jobscout24.ch Advanced', 8)\n",
      "(1030, 'mkpv2 - jobs.ch Advanced', 'jobs.ch Advanced', 'Advanced', 'Paid', 'Advanced', 'Paid', 'Advanced', 'Standalone', 'js24 - Jobcloud Marketplace,mkpv2 - jobs.ch Advanced,mkpv2 - jobscout24.ch Advanced', 8)\n",
      "(1030, 'js24 - Jobcloud Marketplace', 'n/a', 'n/a', 'Freemium', 'Advanced', 'Paid', None, 'Standalone', 'js24 - Jobcloud Marketplace,mkpv2 - jobs.ch Advanced,mkpv2 - jobscout24.ch Advanced', 8)\n",
      "(1038, 'js24 - Jobcloud Marketplace', 'n/a', 'n/a', 'Freemium', 'Plus', 'Paid', None, 'Standalone', 'js24 - Jobcloud Marketplace,mkpv2 - jobs.ch Advanced,mkpv2 - jobscout24.ch Plus', 8)\n",
      "(1038, 'mkpv2 - jobs.ch Advanced', 'jobs.ch Advanced', 'Advanced', 'Paid', 'Plus', 'Paid', 'Advanced', 'Standalone', 'js24 - Jobcloud Marketplace,mkpv2 - jobs.ch Advanced,mkpv2 - jobscout24.ch Plus', 8)\n"
     ]
    }
   ],
   "source": [
    "# Connect\n",
    "conn = sqlite3.connect(db_path)\n",
    "\n",
    "# Close connection\n",
    "conn.close()\n",
    "\n",
    "# Query\n",
    "cols, data = query_table(\"SELECT * FROM d_ad_master_product LIMIT 5;\")\n",
    "print(\"Columns:\", cols)\n",
    "for row in data:\n",
    "    print(row)"
   ]
  },
  {
   "cell_type": "code",
   "execution_count": 8,
   "metadata": {},
   "outputs": [
    {
     "name": "stdout",
     "output_type": "stream",
     "text": [
      "Columns: ['product_sid', 'product_unified', 'product_unified_lvl2', 'product_unified_lvl1', 'product_unified_lvl0', 'product_unified_overall_lvl1', 'product_unified_overall_lvl0', 'product_unified_reach', 'product_unified_type', 'product_combo', 'option_sid']\n",
      "(1030, 'mkpv2 - jobscout24.ch Advanced', 'JobScout24 Advanced', 'Advanced', 'Paid', 'Advanced', 'Paid', 'Advanced', 'Standalone', 'js24 - Jobcloud Marketplace,mkpv2 - jobs.ch Advanced,mkpv2 - jobscout24.ch Advanced', 8)\n",
      "(1030, 'mkpv2 - jobs.ch Advanced', 'jobs.ch Advanced', 'Advanced', 'Paid', 'Advanced', 'Paid', 'Advanced', 'Standalone', 'js24 - Jobcloud Marketplace,mkpv2 - jobs.ch Advanced,mkpv2 - jobscout24.ch Advanced', 8)\n",
      "(1030, 'js24 - Jobcloud Marketplace', 'n/a', 'n/a', 'Freemium', 'Advanced', 'Paid', None, 'Standalone', 'js24 - Jobcloud Marketplace,mkpv2 - jobs.ch Advanced,mkpv2 - jobscout24.ch Advanced', 8)\n",
      "(1038, 'js24 - Jobcloud Marketplace', 'n/a', 'n/a', 'Freemium', 'Plus', 'Paid', None, 'Standalone', 'js24 - Jobcloud Marketplace,mkpv2 - jobs.ch Advanced,mkpv2 - jobscout24.ch Plus', 8)\n",
      "(1038, 'mkpv2 - jobs.ch Advanced', 'jobs.ch Advanced', 'Advanced', 'Paid', 'Plus', 'Paid', 'Advanced', 'Standalone', 'js24 - Jobcloud Marketplace,mkpv2 - jobs.ch Advanced,mkpv2 - jobscout24.ch Plus', 8)\n"
     ]
    }
   ],
   "source": [
    "# Connect\n",
    "conn = sqlite3.connect(db_path)\n",
    "\n",
    "# Close connection\n",
    "conn.close()\n",
    "\n",
    "# Query\n",
    "cols, data = query_table(\"SELECT * FROM d_ad_master_product LIMIT 5;\")\n",
    "print(\"Columns:\", cols)\n",
    "for row in data:\n",
    "    print(row)"
   ]
  },
  {
   "cell_type": "code",
   "execution_count": 9,
   "metadata": {},
   "outputs": [
    {
     "name": "stdout",
     "output_type": "stream",
     "text": [
      "Columns: ['ad_master_id', 'region_unified_lvl2', 'region_unified_lvl1', 'region_unified_lvl0']\n",
      "(6082522529742462357, None, None, None)\n",
      "(3616262158731462812, None, None, None)\n",
      "(-8931788475359444477, None, None, None)\n",
      "(-7805880416521598632, 'Region Mittelland (AG, SO)', 'Region Mittelland (AG, SO)', 'Deutschschweiz')\n",
      "(-8977032300033812559, None, None, None)\n"
     ]
    }
   ],
   "source": [
    "# Connect\n",
    "conn = sqlite3.connect(db_path)\n",
    "\n",
    "# Close connection\n",
    "conn.close()\n",
    "\n",
    "# Query\n",
    "cols, data = query_table(\"SELECT * FROM d_ad_master_region LIMIT 5;\")\n",
    "print(\"Columns:\", cols)\n",
    "for row in data:\n",
    "    print(row)"
   ]
  },
  {
   "cell_type": "code",
   "execution_count": 10,
   "metadata": {},
   "outputs": [
    {
     "name": "stdout",
     "output_type": "stream",
     "text": [
      "Columns: ['customer_blended_id', 'customer_blended_name', 'customer_blended_region_name', 'customer_blended_sales_region', 'customer_blended_country', 'customer_blended_industry', 'customer_blended_industry_de', 'customer_blended_industry_en', 'customer_blended_industry_fr', 'customer_blended_segment', 'customer_blended_status', 'customer_blended_internal_size', 'customer_blended_internal_ats', 'customer_blended_is_recruiter', 'customer_blended_large_region_name', 'customer_blended_agglomeration_name', 'customer_blended_customer_label', 'customer_blended_konzern_name']\n",
      "('0ae415d800d8a1e513d728d599ea757d', 'Physiothérapie de Vich Sàrl', 'Nyon', 'French CH', 'CH', 'Gesundheits-/Sozialwesen', 'Gesundheits-/Sozialwesen', 'Healthcare / Social services', 'Santé/Services sociaux', 'Small', 'active', 'n/a', None, 0, 'Region Genf', 'Nyon', 'Paying', 'n/a')\n",
      "('0aedff5350790b21e25be7c525bb5a2b', 'Grischa Tech AG', 'Chur', 'German CH', 'CH', 'Architektur- / Ingenieurwesen', 'Architektur- / Ingenieurwesen', 'Architectur / Engineering', 'Architecture/Engineering', 'Small', 'active', '11-20', 'internal', 0, 'Ostalpen', 'Plessur', 'Freemium', 'n/a')\n",
      "('0b1a5d661caccf96ee5d7ba3158abe05', 'Gasthaus Höhwald GmbH', 'Klosters-Serneus', 'German CH', 'CH', 'n/a', None, None, None, 'Small', 'active', 'n/a', None, 0, 'Ostalpen', 'Prättigau / Davos', 'Sign-up', 'n/a')\n",
      "('0b326fe69d16b4b7047f7b6bf0dfa055', 'Roos Siebdruck AG', 'Dietikon–Schlieren', 'German CH', 'CH', 'Gewerbe/Handwerk allgemein', 'Gewerbe/Handwerk allgemein', 'Industry / Artisan', 'Industrie/Artisanat', 'Small', 'active', '1-10', None, 0, 'Region Zürich', 'Bremgarten', 'Paying', 'n/a')\n",
      "('0b51b31f2717a2717f0eead36a4cd977', 'F. Perrin Transport SA', 'Montreux–Vevey', 'French CH', 'CH', 'n/a', None, None, None, 'Small', 'active', '11-20', None, 0, 'Region Lausanne', 'La Veveyse', 'Sign-up', 'n/a')\n"
     ]
    }
   ],
   "source": [
    "# Connect\n",
    "conn = sqlite3.connect(db_path)\n",
    "\n",
    "# Close connection\n",
    "conn.close()\n",
    "\n",
    "# Query\n",
    "cols, data = query_table(\"SELECT * FROM d_customer_blended LIMIT 5;\")\n",
    "print(\"Columns:\", cols)\n",
    "for row in data:\n",
    "    print(row)"
   ]
  },
  {
   "cell_type": "code",
   "execution_count": 11,
   "metadata": {},
   "outputs": [
    {
     "name": "stdout",
     "output_type": "stream",
     "text": [
      "Columns: ['customer_master_match_id', 'customer_master_name', 'customer_master_status', 'customer_master_internal_segment', 'customer_master_internal_industry', 'customer_master_internal_industry_de', 'customer_master_internal_industry_en', 'customer_master_internal_industry_fr', 'customer_master_internal_region_name', 'customer_master_internal_communal_name', 'customer_master_internal_agglomeration_name', 'customer_master_internal_large_region_name', 'customer_master_internal_sales_region', 'customer_master_internal_konzern_name', 'customer_master_internal_is_recruiter', 'customer_master_internal_customer_label', 'customer_master_internal_size', 'customer_master_internal_ats', 'customer_master_canton', 'customer_master_country', 'customer_master_language_code']\n",
      "('000077e7ce5d8301334976dfbb568bc5', 'Axpo Gruppe (PMS)', 'active', 'Enterprise', 'Energie- / Wasserversorgung', 'Energie- / Wasserversorgung', 'Energy / Water supply', \"Énergie/Gestion de l'eau\", 'n/a', None, None, 'n/a', 'n/a', 'n/a', None, 'Paying', 'n/a', None, 'AG', 'CH', 'de')\n",
      "('0006550477e4f7f965e04025244a6ae1', 'Robofact AG', 'active', 'Small', 'n/a', None, None, None, 'n/a', None, None, 'n/a', 'German CH', 'n/a', 0, 'Sign-up', '21-50', None, 'AR', 'CH', 'de')\n",
      "('000747237326b594b165ae325be13ead', 'sendvalu', 'active', 'Small', 'Dienstleistungen allgemein', 'Dienstleistungen allgemein', 'Service sector general', 'Services en général', 'Sion', 'Grimisuat', 'Sion', 'Westalpen', 'n/a', 'n/a', None, 'Paying', 'n/a', None, 'VS', 'CH', 'fr')\n",
      "('000fae6a4225394de8a20f769c7fbc07', 'Von Graffenried Bissig Architekten AG', 'active', 'Small', 'Baugewerbe / immobilien', 'Baugewerbe / immobilien', 'Construction / Real Estate', 'Construction/Immobilier', 'n/a', None, None, 'n/a', 'n/a', 'n/a', None, 'Paying', 'n/a', None, None, None, None)\n",
      "('00143cbf5543df35ae08acb559ec4d7b', 'Bike Shop Burkhard GmbH', 'active', 'Small', 'Detail- / Einzel- / Grosshandel', 'Detail- / Einzel- / Grosshandel', 'Retail / Wholesale', 'Commerce de détail/en gros', 'Burgdorf', 'Burgdorf', 'Emmental', 'Region Bern', 'German CH', 'n/a', 0, 'Sign-up', 'n/a', 'internal', 'BE', 'CH', 'de')\n"
     ]
    }
   ],
   "source": [
    "# Connect\n",
    "conn = sqlite3.connect(db_path)\n",
    "\n",
    "# Query\n",
    "cols, data = query_table(\"SELECT * FROM d_customer_master LIMIT 5;\")\n",
    "print(\"Columns:\", cols)\n",
    "for row in data:\n",
    "    print(row)\n",
    "\n",
    "# Close connection\n",
    "conn.close()"
   ]
  },
  {
   "cell_type": "code",
   "execution_count": 12,
   "metadata": {},
   "outputs": [
    {
     "name": "stdout",
     "output_type": "stream",
     "text": [
      "Columns: ['ad_master_id']\n",
      "(7747512705397695835,)\n",
      "(3550906841592452939,)\n",
      "(9012926943242338659,)\n",
      "(2748899001722489484,)\n",
      "(6736225063372441809,)\n"
     ]
    }
   ],
   "source": [
    "# Connect\n",
    "conn = sqlite3.connect(db_path)\n",
    "\n",
    "# Query\n",
    "cols, data = query_table(\"SELECT * FROM inventory_list_ads LIMIT 5;\")\n",
    "print(\"Columns:\", cols)\n",
    "for row in data:\n",
    "    print(row)\n",
    "\n",
    "# Close connection\n",
    "conn.close()"
   ]
  },
  {
   "cell_type": "code",
   "execution_count": 13,
   "metadata": {},
   "outputs": [
    {
     "name": "stdout",
     "output_type": "stream",
     "text": [
      "Columns: ['ad_master_id', 'ad_title', 'ad_template_jobup', 'ad_template_jobs', 'ad_has_email', 'ad_language', 'ad_employment_type_unified_en', 'ad_employment_position_unified_en', 'ad_salary_status', 'ad_application_method', 'ad_applicationtrackingsystems_name', 'ad_source', 'ad_origin']\n",
      "(3310011081962868436, 'Assistant·e administratif·ve (40% - 50%)', None, 'URL', None, 'fr', 'Unlimited employment', 'Employee', 'Ad without salary', 'EXTERNAL', None, 'js24', 'Jobsse - XML Import')\n",
      "(187853357515699061, 'Assistent Management Support 30-50% (m/w/d)', None, 'Template Plus', 'from_field', 'de', 'Unlimited employment', 'Employee', 'Ad without salary', 'INTERNAL', 'jobs.ch', 'jobsse', 'Jobsse - B2B Frontend')\n",
      "(-3653264545224026656, 'Abteilungsleiter:in Mutter & Kind Station und Pränatalstation', 'Template Plus (Joveo)', 'Template Plus (Joveo)', None, 'de', 'Unlimited employment', 'Executive position', 'Ad without salary', 'EXTERNAL', None, 'Joveo', 'Jobsse - XML Import')\n",
      "(2494487847801303356, 'Sachbearbeiter/in in der Auftragsabwicklung', None, 'Standard Layout', 'from_field', 'de', 'Unlimited employment', 'Employee', 'Ad with published salary', 'INTERNAL', None, 'jobsse', 'Jobsse - B2B Frontend')\n",
      "(-6741299070312859087, 'BIM Konstrukteur / CAD Planer (m/w/d)', 'Template Plus (Joveo)', 'URL', None, 'de', 'Unlimited employment', 'Position with responsibilities', 'Ad with published salary', 'EXTERNAL', None, 'Joveo', 'Jobsse - XML Import')\n"
     ]
    }
   ],
   "source": [
    "# Connect\n",
    "conn = sqlite3.connect(db_path)\n",
    "\n",
    "# Query\n",
    "cols, data = query_table(\"SELECT * FROM d_ad_master LIMIT 5;\")\n",
    "print(\"Columns:\", cols)\n",
    "for row in data:\n",
    "    print(row)\n",
    "\n",
    "# Close connection\n",
    "conn.close()"
   ]
  },
  {
   "cell_type": "code",
   "execution_count": 14,
   "metadata": {},
   "outputs": [
    {
     "name": "stdout",
     "output_type": "stream",
     "text": [
      "Columns: ['id', 'name', 'is_private']\n",
      "(878, 'HR_Analyze_Short time_04.2020', None)\n",
      "(1517, 'Zahlungsübersicht', None)\n",
      "(2207, 'Test-Geoffrey', None)\n",
      "(797, 'Freemium/Classic', None)\n",
      "(1479, 'performance_webvitals', None)\n"
     ]
    }
   ],
   "source": [
    "# Connect\n",
    "conn = sqlite3.connect(db_path)\n",
    "\n",
    "# Query\n",
    "cols, data = query_table(\"SELECT * FROM tableau_workbooks LIMIT 5;\")\n",
    "print(\"Columns:\", cols)\n",
    "for row in data:\n",
    "    print(row)\n",
    "\n",
    "# Close connection\n",
    "conn.close()"
   ]
  },
  {
   "cell_type": "code",
   "execution_count": 15,
   "metadata": {},
   "outputs": [
    {
     "name": "stdout",
     "output_type": "stream",
     "text": [
      "Columns: ['date_id', 'ad_master_id', 'product_sid', 'application_id', 'ad_classification_b2c', 'application_start', 'application_draft', 'application_sent', 'platform_b2c']\n",
      "('2024-02-27', -2836536544138267882, 23, 'e52a3b01-2c9e-4c1f-bb5d-9ee3d66ebb01', 'Paid', None, 1, 1, 'jobs.ch')\n",
      "('2024-01-10', -5428922008956147263, 23, '871693d8-97f2-4b20-abd9-d5ebe06a5a28', 'Paid', None, 0, 1, 'jobs.ch')\n",
      "('2024-05-29', 15397171188300421, 23, '7cd5d550-face-4ea1-b0d3-a9406670e6bd', 'Paid', None, 1, 1, 'jobs.ch')\n",
      "('2023-06-04', -4255910801787605115, 1, '4f9699bf-712b-47b1-863e-97812d9bd061', 'Paid', None, 1, 1, 'jobs.ch')\n",
      "('2024-04-10', -7684217706769643799, 33, 'cc450408-a470-4c5e-8d6e-3c0de223dbf2', 'Paid', None, 1, 1, 'jobs.ch')\n"
     ]
    }
   ],
   "source": [
    "# Connect\n",
    "conn = sqlite3.connect(db_path)\n",
    "\n",
    "# Query\n",
    "cols, data = query_table(\"SELECT * FROM f_ad_applications LIMIT 5;\")\n",
    "print(\"Columns:\", cols)\n",
    "for row in data:\n",
    "    print(row)\n",
    "\n",
    "# Close connection\n",
    "conn.close()"
   ]
  },
  {
   "cell_type": "code",
   "execution_count": 16,
   "metadata": {},
   "outputs": [
    {
     "name": "stdout",
     "output_type": "stream",
     "text": [
      "Columns: ['date_id', 'ad_master_id', 'product_sid', 'unity_jobtracker_ad_isbot', 'ad_hit', 'platform_b2c', 'ad_classification_b2c']\n",
      "('2024-09-18', -5956075941033946777, 23, None, 4, 'jobscout24.ch', 'Paid')\n",
      "('2023-05-22', -6418551232826515432, 1293, None, 1, 'jobscout24.ch', 'Freemium')\n",
      "('2024-08-05', -8292709943673694880, 23, None, 3, 'jobscout24.ch', 'Paid')\n",
      "('2024-09-14', -6081858783957491421, 23, None, 6, 'jobscout24.ch', 'Paid')\n",
      "('2023-10-10', 2269702823412439758, 964, None, 5, 'jobscout24.ch', 'Paid')\n"
     ]
    }
   ],
   "source": [
    "# Connect\n",
    "conn = sqlite3.connect(db_path)\n",
    "\n",
    "# Query\n",
    "cols, data = query_table(\"SELECT * FROM f_ad_hits LIMIT 5;\")\n",
    "print(\"Columns:\", cols)\n",
    "for row in data:\n",
    "    print(row)\n",
    "\n",
    "# Close connection\n",
    "conn.close()"
   ]
  },
  {
   "cell_type": "code",
   "execution_count": 17,
   "metadata": {},
   "outputs": [
    {
     "name": "stdout",
     "output_type": "stream",
     "text": [
      "Columns: ['date_id', 'ad_master_id', 'platform_b2c', 'ad_classification_b2c', 'event_job_list_type', 'product_sid', 'impressions']\n",
      "('2023-02-15', -1730705765706362849, 'jobs.ch', 'Crawled', 'search_results', 1451, 4)\n",
      "('2023-10-28', -4584127828773775755, 'jobs.ch', 'Paid', 'search_results', 444, 33)\n",
      "('2023-03-08', -8085225489775366383, 'jobup.ch', 'Freemium', 'search_results', 1293, 3)\n",
      "('2024-08-23', -7137199166138944428, 'jobs.ch', 'Crawled', 'search_results', 1451, 1)\n",
      "('2024-03-20', -5967084955930017245, 'jobup.ch', 'Freemium', 'search_results', 1293, 1)\n"
     ]
    }
   ],
   "source": [
    "# Connect\n",
    "conn = sqlite3.connect(db_path)\n",
    "\n",
    "# Query\n",
    "cols, data = query_table(\"SELECT * FROM f_ad_impressions LIMIT 5;\")\n",
    "print(\"Columns:\", cols)\n",
    "for row in data:\n",
    "    print(row)\n",
    "\n",
    "# Close connection\n",
    "conn.close()"
   ]
  },
  {
   "cell_type": "code",
   "execution_count": 18,
   "metadata": {},
   "outputs": [
    {
     "name": "stdout",
     "output_type": "stream",
     "text": [
      "Columns: ['date_id', 'ad_master_id', 'customer_id', 'customer_master_match_id', 'customer_blended_id', 'active', 'platform_b2c', 'ad_classification_b2c', 'product_sid']\n",
      "('2023-05-23', 7747512705397695835, None, None, None, 7747512705397695835, 'jobs.ch', 'Crawled', 1451)\n",
      "('2024-02-25', 3550906841592452939, 'datapool-941820ea-4d98-452c-baf7-2eec73987deb', 'e8ac666e23b19ca49e15301260c7578d', 'e8ac666e23b19ca49e15301260c7578d', 3550906841592452939, 'jobs.ch', 'Crawled', 1451)\n",
      "('2023-12-07', 9012926943242338659, 'datapool-b29446ce-9b2a-44f4-bc5a-2fda0d334a5a', 'c666a67825635d99dba8c9df5c347bc9', 'c666a67825635d99dba8c9df5c347bc9', 9012926943242338659, 'jobup.ch', 'Freemium', 964)\n",
      "('2024-10-05', 2748899001722489484, None, None, None, 2748899001722489484, 'jobscout24.ch', 'Crawled', 1451)\n",
      "('2024-01-25', 6736225063372441809, None, None, None, 6736225063372441809, 'jobs.ch', 'Crawled', 1451)\n"
     ]
    }
   ],
   "source": [
    "# Connect\n",
    "conn = sqlite3.connect(db_path)\n",
    "\n",
    "# Query\n",
    "cols, data = query_table(\"SELECT * FROM f_ad_inventory LIMIT 5;\")\n",
    "print(\"Columns:\", cols)\n",
    "for row in data:\n",
    "    print(row)\n",
    "\n",
    "# Close connection\n",
    "conn.close()\n"
   ]
  },
  {
   "cell_type": "code",
   "execution_count": 19,
   "metadata": {},
   "outputs": [
    {
     "name": "stdout",
     "output_type": "stream",
     "text": [
      "Columns: ['id', 'name', 'repository_url', 'created_at', 'workbook_id', 'updated_at', 'fields', 'title', 'caption', 'sheettype', 'published']\n",
      "(19211, 'Quick Apply Impact', 'ImpactofQuickApply/sheets/QuickApplyImpact', '2024-04-29', 3521, '2024-05-16', '', 'Quick Apply Impact', '', 'dashboard', 0)\n",
      "(14340, 'User by registration date', 'JobupB2Ccomposition/sheets/Userbyregistrationdate', '2023-02-15', 2675, '2023-02-15', 'AGG(Count of b2cuser id), YEAR(B2Cuser Registration Date)', 'User by registration date', 'The trend of Count of b2cuser id for B2Cuser Registration Date Year.', 'view', 0)\n",
      "(11464, 'Sheet 1', 'nemensisgroup/sheets/Sheet1', '2022-06-16', 2218, '2022-06-16', 'Kennzahlnamen, Kennzahlwerte, customer_name (Gruppe), product_category, JAHR(date_id)', 'Sheet 1', 'Revenueundorder_intake unterteilt nach date_id Jahr vs. customer_name (Gruppe)undproduct_category.Die Daten werden unter customer_name gefiltert, wobei 6 Elemente beibehalten wird.Die Ansicht wird unter date_id Jahr gefiltert, wobei 11 Elemente beibehalten wird.', 'view', 0)\n",
      "(2340, 'Overview Spend', 'ClassifiedvsProgrammaticAnalysis/sheets/OverviewSpend', '2019-09-13', 649, '2019-09-13', 'Business Model,Jahr von Start Date,Monat von Start Date,SUM(Spend)', 'Overview Spend', '', 'view', 0)\n",
      "(3681, '2020 GLZ', 'HR_Analyze_04_2020_v4/sheets/2020GLZ', '2020-05-13', 875, '2020-05-13', 'Measure Names,Measure Values,Abteilung-Gruppe,Beschäftigungsgrad,Ka-Beschäftigung,Name,Pers. Nr.', '2020 GLZ', '', 'view', 0)\n"
     ]
    }
   ],
   "source": [
    "# Connect\n",
    "conn = sqlite3.connect(db_path)\n",
    "\n",
    "# Query\n",
    "cols, data = query_table(\"SELECT * FROM tableau_views LIMIT 5;\")\n",
    "print(\"Columns:\", cols)\n",
    "for row in data:\n",
    "    print(row)\n",
    "\n",
    "# Close connection\n",
    "conn.close()\n"
   ]
  },
  {
   "cell_type": "code",
   "execution_count": 20,
   "metadata": {},
   "outputs": [
    {
     "name": "stdout",
     "output_type": "stream",
     "text": [
      "Columns: ['ad_master_id', 'category_lvl0', 'category_lvl0_en', 'category_lvl0_fr', 'category_lvl1', 'category_lvl1_en', 'category_lvl1_fr', 'category_lvl2', 'category_lvl2_en', 'category_lvl2_fr', 'category_combo_id']\n"
     ]
    }
   ],
   "source": [
    "# Connect\n",
    "conn = sqlite3.connect(db_path)\n",
    "\n",
    "# Query\n",
    "cols, data = query_table(\"SELECT * FROM d_ad_master_category_new LIMIT 5;\")\n",
    "print(\"Columns:\", cols)\n",
    "for row in data:\n",
    "    print(row)\n",
    "\n",
    "# Close connection\n",
    "conn.close()\n"
   ]
  },
  {
   "cell_type": "code",
   "execution_count": 21,
   "metadata": {},
   "outputs": [],
   "source": [
    "# Remove the temp file\n",
    "os.remove(db_path)"
   ]
  }
 ],
 "metadata": {
  "kernelspec": {
   "display_name": "Python 3.11.12 ('esi-001')",
   "language": "python",
   "name": "python3"
  },
  "language_info": {
   "codemirror_mode": {
    "name": "ipython",
    "version": 3
   },
   "file_extension": ".py",
   "mimetype": "text/x-python",
   "name": "python",
   "nbconvert_exporter": "python",
   "pygments_lexer": "ipython3",
   "version": "3.11.12"
  },
  "orig_nbformat": 4,
  "vscode": {
   "interpreter": {
    "hash": "70b29d8b2c49042bf18c3ed9f91cd97fb75a2963a1be2dca66762440606e7c3b"
   }
  }
 },
 "nbformat": 4,
 "nbformat_minor": 2
}
